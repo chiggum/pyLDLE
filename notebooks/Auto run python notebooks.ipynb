{
 "cells": [
  {
   "cell_type": "code",
   "execution_count": null,
   "id": "1c457f11",
   "metadata": {},
   "outputs": [],
   "source": [
    "# uncomment notebooks to run\n",
    "notebooks_to_run = [\n",
    "    #'square.ipynb',\n",
    "    #'rectangle.ipynb',\n",
    "    #'double rectangle.ipynb',\n",
    "    #'sphere.ipynb',\n",
    "    #'barbell.ipynb',\n",
    "    #'square with two holes.ipynb',\n",
    "    #'sphere with hole.ipynb',\n",
    "    #'swiss roll with hole.ipynb',\n",
    "    #'swiss roll with uniform noise.ipynb',\n",
    "    #'double barbell.ipynb',\n",
    "    #'double square with two holes.ipynb',\n",
    "    #'double sphere with hole.ipynb',\n",
    "    #'double swiss roll with hole.ipynb',\n",
    "    #'swiss roll with increasing gaussian noise.ipynb',\n",
    "    #'flat torus.ipynb',\n",
    "    #'curved torus.ipynb',\n",
    "    #'klein bottle.ipynb',\n",
    "    #'mobius strip.ipynb',\n",
    "    #'face data.ipynb',\n",
    "    #'s1 puppets data.ipynb'\n",
    "]"
   ]
  },
  {
   "cell_type": "markdown",
   "id": "a5db113e",
   "metadata": {},
   "source": [
    "# Paste the output of this cell in the next cell and execute"
   ]
  },
  {
   "cell_type": "code",
   "execution_count": null,
   "id": "6f953c81",
   "metadata": {},
   "outputs": [],
   "source": [
    "for nbk in notebooks_to_run:\n",
    "    print('%run', \"'%s'\" % nbk)"
   ]
  },
  {
   "cell_type": "code",
   "execution_count": null,
   "id": "562cab4e",
   "metadata": {},
   "outputs": [],
   "source": []
  }
 ],
 "metadata": {
  "kernelspec": {
   "display_name": "Python 3",
   "language": "python",
   "name": "python3"
  },
  "language_info": {
   "codemirror_mode": {
    "name": "ipython",
    "version": 3
   },
   "file_extension": ".py",
   "mimetype": "text/x-python",
   "name": "python",
   "nbconvert_exporter": "python",
   "pygments_lexer": "ipython3",
   "version": "3.8.8"
  }
 },
 "nbformat": 4,
 "nbformat_minor": 5
}
