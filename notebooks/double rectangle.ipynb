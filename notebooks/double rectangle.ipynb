{
 "cells": [
  {
   "cell_type": "code",
   "execution_count": 1,
   "id": "d2d7282e",
   "metadata": {},
   "outputs": [],
   "source": [
    "%matplotlib inline"
   ]
  },
  {
   "cell_type": "code",
   "execution_count": 2,
   "id": "339da2dd",
   "metadata": {},
   "outputs": [
    {
     "name": "stdout",
     "output_type": "stream",
     "text": [
      "matplotlib.get_backend() =  module://ipykernel.pylab.backend_inline\n",
      "matplotlib.get_backend() =  module://ipykernel.pylab.backend_inline\n"
     ]
    }
   ],
   "source": [
    "import sys\n",
    "sys.path.insert(0,'..')\n",
    "import pickle\n",
    "\n",
    "import visualize\n",
    "import datasets\n",
    "import ldle\n",
    "# Uncomment to reload a library\n",
    "from importlib import reload \n",
    "visualize = reload(visualize)\n",
    "ldle = reload(ldle)\n",
    "datasets = reload(datasets)"
   ]
  },
  {
   "cell_type": "code",
   "execution_count": 3,
   "id": "d20b0284",
   "metadata": {},
   "outputs": [],
   "source": [
    "save_dir_root = '../data/ldle/double_rectangle/'"
   ]
  },
  {
   "cell_type": "code",
   "execution_count": 4,
   "id": "6232f85f",
   "metadata": {},
   "outputs": [
    {
     "name": "stdout",
     "output_type": "stream",
     "text": [
      "X.shape =  (10426, 2)\n"
     ]
    }
   ],
   "source": [
    "X, labelsMat, ddX = datasets.Datasets().rectanglegrid(ar=16)"
   ]
  },
  {
   "cell_type": "markdown",
   "id": "3afa88a7",
   "metadata": {},
   "source": [
    "# LDLE"
   ]
  },
  {
   "cell_type": "code",
   "execution_count": 5,
   "id": "00f88116",
   "metadata": {},
   "outputs": [],
   "source": [
    "ldle_obj = ldle.LDLE(X=X, eta_min=5, max_iter0=20, ddX=ddX,\n",
    "                     vis = visualize.Visualize(save_dir_root),\n",
    "                     vis_y_options = {'cmap0':'summer', # for the interior\n",
    "                                      'cmap1':'jet', # for the tear\n",
    "                                      'labels':labelsMat[:,0]})"
   ]
  },
  {
   "cell_type": "code",
   "execution_count": 6,
   "id": "719c3266",
   "metadata": {
    "scrolled": false
   },
   "outputs": [
    {
     "name": "stdout",
     "output_type": "stream",
     "text": [
      "Doubling manifold\n",
      "No. of points on the boundary = 850\n",
      "Doubled manifold\n",
      "A_k, Atilde_k: 0 points processed...\n",
      "A_k, Atilde_k: 5000 points processed...\n",
      "A_k, Atilde_k: 10000 points processed...\n",
      "A_k, Atilde_k: 15000 points processed...\n",
      "A_k, Atilde_k: 20000 points processed...\n",
      "Atilde_k, Atilde_k: all points processed...\n",
      "\n",
      "Constructing low distortion local views using LDLE...\n",
      "local_param: 0 points processed...\n",
      "local_param: 5000 points processed...\n",
      "local_param: 10000 points processed...\n",
      "local_param: 15000 points processed...\n",
      "local_param: 20000 points processed...\n",
      "local_param: all 20002 points processed...\n",
      "After iter 1, max distortion is 23.716712\n",
      "After iter 2, max distortion is 19.448429\n",
      "After iter 3, max distortion is 19.448429\n",
      "After iter 4, max distortion is 19.448429\n",
      "After iter 5, max distortion is 19.448429\n",
      "After iter 6, max distortion is 19.448429\n",
      "After iter 7, max distortion is 19.448429\n",
      "After iter 8, max distortion is 19.448429\n",
      "After iter 9, max distortion is 19.448429\n",
      "Max local distortion = 19.44215867318373\n",
      "###############\n",
      "Took 251.6 seconds to perform step 1: construct low distoriton local views\n",
      "###############\n",
      "\n",
      "Clustering to obtain low distortion intermediate views...\n",
      "# non-empty views with sz < 2 = 10426\n",
      "#nodes in views with sz < 2 = 10426\n",
      "Remaining #nodes in views with sz < 2 = 0\n",
      "# non-empty views with sz < 3 = 779\n",
      "#nodes in views with sz < 3 = 1558\n",
      "Remaining #nodes in views with sz < 3 = 0\n",
      "# non-empty views with sz < 4 = 423\n",
      "#nodes in views with sz < 4 = 1269\n",
      "Remaining #nodes in views with sz < 4 = 0\n",
      "# non-empty views with sz < 5 = 324\n",
      "#nodes in views with sz < 5 = 1296\n",
      "Remaining #nodes in views with sz < 5 = 0\n",
      "After clustering, max distortion is 7.519628\n",
      "###############\n",
      "Took 44.3 seconds to perform step 2: construct intermediate views.\n",
      "###############\n",
      "\n",
      "Initializing parameters and computing initial global embedding...\n",
      "Ambiguous overlaps checked for 0 intermediate views\n",
      "Ambiguous overlaps checked for 303 intermediate views\n",
      "Ambiguous overlaps checked for 606 intermediate views\n",
      "Ambiguous overlaps checked for 909 intermediate views\n",
      "Ambiguous overlaps checked for 1212 points\n",
      "Seq of intermediate views and their predecessors computed.\n",
      "Initial alignment of 303 views completed\n",
      "Initial alignment of 606 views completed\n",
      "Initial alignment of 909 views completed\n",
      "error: 0.00015997305919548835\n"
     ]
    },
    {
     "data": {
      "image/png": "[encoded data removed]",
      "text/plain": [
       "<Figure size 432x288 with 1 Axes>"
      ]
     },
     "metadata": {
      "needs_background": "light"
     },
     "output_type": "display_data"
    },
    {
     "name": "stdout",
     "output_type": "stream",
     "text": [
      "###############\n",
      "Took 16.2 seconds to compute initial global embedding.\n",
      "###############\n",
      "\n",
      "Refining parameters and computing final global embedding...\n",
      "Using GPA...\n",
      "Iteration: 0\n",
      "error: 9.213241700257408e-05\n"
     ]
    },
    {
     "data": {
      "image/png": "[encoded data removed]",
      "text/plain": [
       "<Figure size 432x288 with 1 Axes>"
      ]
     },
     "metadata": {
      "needs_background": "light"
     },
     "output_type": "display_data"
    },
    {
     "name": "stdout",
     "output_type": "stream",
     "text": [
      "Iteration: 1\n",
      "error: 9.176101817560154e-05\n",
      "Iteration: 2\n",
      "error: 9.164578844370149e-05\n",
      "Iteration: 3\n",
      "error: 9.156077210565488e-05\n",
      "Iteration: 4\n",
      "error: 9.150809685501518e-05\n",
      "Iteration: 5\n",
      "error: 9.145248407898109e-05\n"
     ]
    },
    {
     "data": {
      "image/png": "[encoded data removed]",
      "text/plain": [
       "<Figure size 432x288 with 1 Axes>"
      ]
     },
     "metadata": {
      "needs_background": "light"
     },
     "output_type": "display_data"
    },
    {
     "name": "stdout",
     "output_type": "stream",
     "text": [
      "Iteration: 6\n",
      "error: 9.141652041622603e-05\n",
      "Iteration: 7\n",
      "error: 9.137900565506689e-05\n",
      "Iteration: 8\n",
      "error: 9.135149190277742e-05\n",
      "Iteration: 9\n",
      "error: 9.1318840947631e-05\n",
      "Iteration: 10\n",
      "error: 9.129235601077082e-05\n"
     ]
    },
    {
     "data": {
      "image/png": "[encoded data removed]",
      "text/plain": [
       "<Figure size 432x288 with 1 Axes>"
      ]
     },
     "metadata": {
      "needs_background": "light"
     },
     "output_type": "display_data"
    },
    {
     "name": "stdout",
     "output_type": "stream",
     "text": [
      "Iteration: 11\n",
      "error: 9.127100460589813e-05\n",
      "Iteration: 12\n",
      "error: 9.12487578656434e-05\n",
      "Iteration: 13\n",
      "error: 9.123007557883902e-05\n",
      "Iteration: 14\n",
      "error: 9.121092920524023e-05\n",
      "Iteration: 15\n",
      "error: 9.118937580091354e-05\n"
     ]
    },
    {
     "data": {
      "image/png": "[encoded data removed]",
      "text/plain": [
       "<Figure size 432x288 with 1 Axes>"
      ]
     },
     "metadata": {
      "needs_background": "light"
     },
     "output_type": "display_data"
    },
    {
     "name": "stdout",
     "output_type": "stream",
     "text": [
      "Iteration: 16\n",
      "error: 9.11711384536289e-05\n",
      "Iteration: 17\n",
      "error: 9.115530014545529e-05\n",
      "Iteration: 18\n",
      "error: 9.113647793858552e-05\n",
      "Iteration: 19\n",
      "error: 9.11193739849041e-05\n"
     ]
    },
    {
     "data": {
      "image/png": "[encoded data removed]",
      "text/plain": [
       "<Figure size 432x288 with 1 Axes>"
      ]
     },
     "metadata": {
      "needs_background": "light"
     },
     "output_type": "display_data"
    },
    {
     "name": "stdout",
     "output_type": "stream",
     "text": [
      "###############\n",
      "Took 767.7 seconds to refine global embedding.\n",
      "###############\n",
      "###############\n",
      "Took 789.2 seconds to perform step 3: compute global embedding.\n",
      "###############\n"
     ]
    }
   ],
   "source": [
    "ldle_obj.fit()"
   ]
  },
  {
   "cell_type": "markdown",
   "id": "98c6ee1e",
   "metadata": {},
   "source": [
    "# Optionally save for further visualizations using Visualization.ipynb"
   ]
  },
  {
   "cell_type": "code",
   "execution_count": 7,
   "id": "30521e33",
   "metadata": {},
   "outputs": [],
   "source": [
    "save_path = save_dir_root+'/ldle_obj.dat'\n",
    "with open(save_path, \"wb\") as f:\n",
    "    pickle.dump([X, labelsMat, ldle_obj], f)"
   ]
  },
  {
   "cell_type": "code",
   "execution_count": null,
   "id": "29584ac0",
   "metadata": {},
   "outputs": [],
   "source": []
  }
 ],
 "metadata": {
  "kernelspec": {
   "display_name": "Python 3",
   "language": "python",
   "name": "python3"
  },
  "language_info": {
   "codemirror_mode": {
    "name": "ipython",
    "version": 3
   },
   "file_extension": ".py",
   "mimetype": "text/x-python",
   "name": "python",
   "nbconvert_exporter": "python",
   "pygments_lexer": "ipython3",
   "version": "3.8.8"
  }
 },
 "nbformat": 4,
 "nbformat_minor": 5
}
