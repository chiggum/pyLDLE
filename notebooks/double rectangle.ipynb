{
 "cells": [
  {
   "cell_type": "code",
   "execution_count": 1,
   "id": "d2d7282e",
   "metadata": {},
   "outputs": [],
   "source": [
    "%matplotlib inline"
   ]
  },
  {
   "cell_type": "code",
   "execution_count": 2,
   "id": "339da2dd",
   "metadata": {},
   "outputs": [
    {
     "name": "stdout",
     "output_type": "stream",
     "text": [
      "matplotlib.get_backend() =  module://ipykernel.pylab.backend_inline\n",
      "matplotlib.get_backend() =  module://ipykernel.pylab.backend_inline\n"
     ]
    }
   ],
   "source": [
    "import sys\n",
    "sys.path.insert(0,'..')\n",
    "import pickle\n",
    "\n",
    "import visualize\n",
    "import datasets\n",
    "import ldle\n",
    "# Uncomment to reload a library\n",
    "from importlib import reload \n",
    "visualize = reload(visualize)\n",
    "ldle = reload(ldle)\n",
    "datasets = reload(datasets)"
   ]
  },
  {
   "cell_type": "code",
   "execution_count": 3,
   "id": "d20b0284",
   "metadata": {},
   "outputs": [],
   "source": [
    "save_dir_root = '../data/ldle1/double_rectangle/'"
   ]
  },
  {
   "cell_type": "code",
   "execution_count": 4,
   "id": "6232f85f",
   "metadata": {},
   "outputs": [
    {
     "name": "stdout",
     "output_type": "stream",
     "text": [
      "X.shape =  (10426, 2)\n"
     ]
    }
   ],
   "source": [
    "X, labelsMat, ddX = datasets.Datasets().rectanglegrid(ar=16)"
   ]
  },
  {
   "cell_type": "markdown",
   "id": "3afa88a7",
   "metadata": {},
   "source": [
    "# LDLE"
   ]
  },
  {
   "cell_type": "code",
   "execution_count": 5,
   "id": "00f88116",
   "metadata": {},
   "outputs": [],
   "source": [
    "ldle_obj = ldle.LDLE(X=X, eta_min=5, max_iter0=20, ddX=ddX,\n",
    "                     vis = visualize.Visualize(save_dir_root),\n",
    "                     vis_y_options = {'cmap0':'summer', # for the interior\n",
    "                                      'cmap1':'jet', # for the tear\n",
    "                                      'labels':labelsMat[:,0]})"
   ]
  },
  {
   "cell_type": "code",
   "execution_count": 6,
   "id": "719c3266",
   "metadata": {
    "scrolled": false
   },
   "outputs": [
    {
     "name": "stdout",
     "output_type": "stream",
     "text": [
      "Doubling manifold\n",
      "No. of points on the boundary = 850\n",
      "Doubled manifold\n",
      "Using LDLE_1\n",
      "A_k, Atilde_k: 0 points processed...\n",
      "A_k, Atilde_k: 5000 points processed...\n",
      "A_k, Atilde_k: 10000 points processed...\n",
      "A_k, Atilde_k: 15000 points processed...\n",
      "A_k, Atilde_k: 20000 points processed...\n",
      "Atilde_k, Atilde_k: all points processed...\n",
      "\n",
      "Constructing low distortion local views using LDLE...\n",
      "local_param: 0 points processed...\n",
      "local_param: 5000 points processed...\n",
      "local_param: 10000 points processed...\n",
      "local_param: 15000 points processed...\n",
      "local_param: 20000 points processed...\n",
      "local_param: all 20002 points processed...\n",
      "After iter 1, max distortion is 23.069114\n",
      "After iter 2, max distortion is 18.108753\n",
      "After iter 3, max distortion is 18.108753\n",
      "After iter 4, max distortion is 18.108753\n",
      "After iter 5, max distortion is 18.108753\n",
      "After iter 6, max distortion is 18.108753\n",
      "After iter 7, max distortion is 18.108753\n",
      "After iter 8, max distortion is 18.108753\n",
      "Max local distortion = 18.108405344860014\n",
      "###############\n",
      "Took 269.6 seconds to perform step 1: construct low distoriton local views\n",
      "###############\n",
      "\n",
      "Clustering to obtain low distortion intermediate views...\n",
      "# non-empty views with sz < 2 = 10426\n",
      "#nodes in views with sz < 2 = 10426\n",
      "Remaining #nodes in views with sz < 2 = 0\n",
      "# non-empty views with sz < 3 = 810\n",
      "#nodes in views with sz < 3 = 1620\n",
      "Remaining #nodes in views with sz < 3 = 0\n",
      "# non-empty views with sz < 4 = 422\n",
      "#nodes in views with sz < 4 = 1266\n",
      "Remaining #nodes in views with sz < 4 = 0\n",
      "# non-empty views with sz < 5 = 284\n",
      "#nodes in views with sz < 5 = 1136\n",
      "Remaining #nodes in views with sz < 5 = 0\n",
      "After clustering, max distortion is 8.680714\n",
      "###############\n",
      "Took 50.0 seconds to perform step 2: construct intermediate views.\n",
      "###############\n",
      "\n",
      "Initializing parameters and computing initial global embedding...\n",
      "Ambiguous overlaps checked for 0 intermediate views\n",
      "Ambiguous overlaps checked for 300 intermediate views\n",
      "Ambiguous overlaps checked for 600 intermediate views\n",
      "Ambiguous overlaps checked for 900 intermediate views\n",
      "Ambiguous overlaps checked for 1200 intermediate views\n",
      "Ambiguous overlaps checked for 1203 points\n",
      "Seq of intermediate views and their predecessors computed.\n",
      "Initial alignment of 300 views completed\n",
      "Initial alignment of 600 views completed\n",
      "Initial alignment of 900 views completed\n",
      "Initial alignment of 1200 views completed\n",
      "error: 0.0002915494380367866\n"
     ]
    },
    {
     "data": {
      "image/png": "[encoded data removed]",
      "text/plain": [
       "<Figure size 432x288 with 1 Axes>"
      ]
     },
     "metadata": {},
     "output_type": "display_data"
    },
    {
     "name": "stdout",
     "output_type": "stream",
     "text": [
      "###############\n",
      "Took 17.0 seconds to compute initial global embedding.\n",
      "###############\n",
      "\n",
      "Refining parameters and computing final global embedding...\n",
      "Using GPA...\n",
      "Iteration: 0\n",
      "error: 0.00015442760807798407\n"
     ]
    },
    {
     "data": {
      "image/png": "[encoded data removed]",
      "text/plain": [
       "<Figure size 432x288 with 1 Axes>"
      ]
     },
     "metadata": {},
     "output_type": "display_data"
    },
    {
     "name": "stdout",
     "output_type": "stream",
     "text": [
      "Iteration: 1\n",
      "error: 0.00015331250513209846\n",
      "Iteration: 2\n",
      "error: 0.00015304317369299855\n",
      "Iteration: 3\n",
      "error: 0.0001529439134452475\n",
      "Iteration: 4\n",
      "error: 0.0001529047803854416\n",
      "Iteration: 5\n",
      "error: 0.00015282179986646566\n"
     ]
    },
    {
     "data": {
      "image/png": "[encoded data removed]",
      "text/plain": [
       "<Figure size 432x288 with 1 Axes>"
      ]
     },
     "metadata": {},
     "output_type": "display_data"
    },
    {
     "name": "stdout",
     "output_type": "stream",
     "text": [
      "Iteration: 6\n",
      "error: 0.00015279119388907384\n",
      "Iteration: 7\n",
      "error: 0.0001527748234113929\n",
      "Iteration: 8\n",
      "error: 0.0001527725214554709\n",
      "Iteration: 9\n",
      "error: 0.00015272084324463323\n",
      "Iteration: 10\n",
      "error: 0.00015273985337968876\n"
     ]
    },
    {
     "data": {
      "image/png": "[encoded data removed]",
      "text/plain": [
       "<Figure size 432x288 with 1 Axes>"
      ]
     },
     "metadata": {},
     "output_type": "display_data"
    },
    {
     "name": "stdout",
     "output_type": "stream",
     "text": [
      "Iteration: 11\n",
      "error: 0.0001527081991679313\n",
      "Iteration: 12\n",
      "error: 0.00015270436461940168\n",
      "Iteration: 13\n",
      "error: 0.0001526897068153495\n",
      "Iteration: 14\n",
      "error: 0.00015268485330994095\n",
      "Iteration: 15\n",
      "error: 0.00015266688105026766\n"
     ]
    },
    {
     "data": {
      "image/png": "[encoded data removed]",
      "text/plain": [
       "<Figure size 432x288 with 1 Axes>"
      ]
     },
     "metadata": {},
     "output_type": "display_data"
    },
    {
     "name": "stdout",
     "output_type": "stream",
     "text": [
      "Iteration: 16\n",
      "error: 0.00015266077681451594\n",
      "Iteration: 17\n",
      "error: 0.00015265380021800608\n",
      "Iteration: 18\n",
      "error: 0.00015264432069359593\n",
      "Iteration: 19\n",
      "error: 0.00015264076555933427\n"
     ]
    },
    {
     "data": {
      "image/png": "[encoded data removed]",
      "text/plain": [
       "<Figure size 432x288 with 1 Axes>"
      ]
     },
     "metadata": {},
     "output_type": "display_data"
    },
    {
     "name": "stdout",
     "output_type": "stream",
     "text": [
      "###############\n",
      "Took 590.3 seconds to refine global embedding.\n",
      "###############\n",
      "###############\n",
      "Took 612.7 seconds to perform step 3: compute global embedding.\n",
      "###############\n"
     ]
    }
   ],
   "source": [
    "ldle_obj.fit()"
   ]
  },
  {
   "cell_type": "markdown",
   "id": "98c6ee1e",
   "metadata": {},
   "source": [
    "# Optionally save for further visualizations using Visualization.ipynb"
   ]
  },
  {
   "cell_type": "code",
   "execution_count": 7,
   "id": "30521e33",
   "metadata": {},
   "outputs": [],
   "source": [
    "save_path = save_dir_root+'/ldle_obj.dat'\n",
    "with open(save_path, \"wb\") as f:\n",
    "    pickle.dump([X, labelsMat, ldle_obj], f)"
   ]
  },
  {
   "cell_type": "code",
   "execution_count": 8,
   "id": "8e59ee37",
   "metadata": {},
   "outputs": [
    {
     "data": {
      "image/png": "[encoded data removed]",
      "text/plain": [
       "<Figure size 432x288 with 1 Axes>"
      ]
     },
     "metadata": {},
     "output_type": "display_data"
    }
   ],
   "source": [
    "%matplotlib inline\n",
    "ldle_obj.vis.global_embedding(ldle_obj.y_final, labelsMat[:,0], 'jet', title='LDLE0')"
   ]
  },
  {
   "cell_type": "code",
   "execution_count": 9,
   "id": "1627fe40",
   "metadata": {},
   "outputs": [
    {
     "data": {
      "image/png": "[encoded data removed]",
      "text/plain": [
       "<Figure size 432x288 with 1 Axes>"
      ]
     },
     "metadata": {},
     "output_type": "display_data"
    }
   ],
   "source": [
    "%matplotlib inline\n",
    "ldle_obj.vis.global_embedding(ldle_obj.y_final, labelsMat[:,1], 'jet', title='LDLE1')"
   ]
  }
 ],
 "metadata": {
  "kernelspec": {
   "display_name": "Python 3",
   "language": "python",
   "name": "python3"
  },
  "language_info": {
   "codemirror_mode": {
    "name": "ipython",
    "version": 3
   },
   "file_extension": ".py",
   "mimetype": "text/x-python",
   "name": "python",
   "nbconvert_exporter": "python",
   "pygments_lexer": "ipython3",
   "version": "3.8.8"
  }
 },
 "nbformat": 4,
 "nbformat_minor": 5
}
