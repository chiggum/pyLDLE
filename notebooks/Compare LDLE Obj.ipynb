{
 "cells": [
  {
   "cell_type": "code",
   "execution_count": 1,
   "id": "8f7d649a",
   "metadata": {},
   "outputs": [],
   "source": [
    "%matplotlib inline"
   ]
  },
  {
   "cell_type": "code",
   "execution_count": 2,
   "id": "bc3788ff",
   "metadata": {},
   "outputs": [
    {
     "name": "stdout",
     "output_type": "stream",
     "text": [
      "matplotlib.get_backend() =  module://ipykernel.pylab.backend_inline\n",
      "matplotlib.get_backend() =  module://ipykernel.pylab.backend_inline\n"
     ]
    }
   ],
   "source": [
    "import sys\n",
    "sys.path.insert(0,'..')\n",
    "import pickle\n",
    "\n",
    "import visualize\n",
    "import datasets\n",
    "import ldle\n",
    "import numpy as np\n",
    "# Uncomment to reload a library\n",
    "from importlib import reload \n",
    "visualize = reload(visualize)\n",
    "ldle = reload(ldle)\n",
    "datasets = reload(datasets)"
   ]
  },
  {
   "cell_type": "code",
   "execution_count": 3,
   "id": "8319150d",
   "metadata": {},
   "outputs": [],
   "source": [
    "fpath1 = '../data/ldle/sphere/ldle_obj.dat'\n",
    "fpath2 = '../../../../codebase/pyLDLE/data/ldle_results_with_code_on_main_branch_6_Jul_1_32_pm/sphere/ldle_obj.dat'\n",
    "#fpath2 = '../data/ldle_hdsi2/kleinbottle/ldle_obj.dat'"
   ]
  },
  {
   "cell_type": "code",
   "execution_count": 4,
   "id": "172fa570",
   "metadata": {},
   "outputs": [],
   "source": [
    "with open(fpath1, \"rb\") as f:\n",
    "    X1, labelsMat1, ldle_obj1 = pickle.load(f)\n",
    "    \n",
    "with open(fpath2, \"rb\") as f:\n",
    "    X2, labelsMat2, ldle_obj2 = pickle.load(f)"
   ]
  },
  {
   "cell_type": "code",
   "execution_count": 5,
   "id": "1e2c27c1",
   "metadata": {},
   "outputs": [],
   "source": [
    "def max_abs_diff(a,b):\n",
    "    return np.max(np.abs(a-b))"
   ]
  },
  {
   "cell_type": "code",
   "execution_count": 6,
   "id": "a5e36989",
   "metadata": {},
   "outputs": [],
   "source": [
    "def mean_abs_diff(a,b):\n",
    "    return np.max(np.abs(a-b))"
   ]
  },
  {
   "cell_type": "code",
   "execution_count": 7,
   "id": "141b5741",
   "metadata": {},
   "outputs": [],
   "source": [
    "def min_max_mean(a):\n",
    "    return np.min(a), np.max(a), np.mean(a)"
   ]
  },
  {
   "cell_type": "markdown",
   "id": "13eeb018",
   "metadata": {},
   "source": [
    "# Check if data is same"
   ]
  },
  {
   "cell_type": "code",
   "execution_count": 8,
   "id": "6a297f21",
   "metadata": {},
   "outputs": [
    {
     "data": {
      "text/plain": [
       "0.0"
      ]
     },
     "execution_count": 8,
     "metadata": {},
     "output_type": "execute_result"
    }
   ],
   "source": [
    "max_abs_diff(X1,X2)"
   ]
  },
  {
   "cell_type": "code",
   "execution_count": 9,
   "id": "68ddaa3f",
   "metadata": {},
   "outputs": [
    {
     "data": {
      "text/plain": [
       "0.0"
      ]
     },
     "execution_count": 9,
     "metadata": {},
     "output_type": "execute_result"
    }
   ],
   "source": [
    "max_abs_diff(labelsMat1,labelsMat2)"
   ]
  },
  {
   "cell_type": "markdown",
   "id": "624af2bf",
   "metadata": {},
   "source": [
    "# Check LDLE Obj attributes one by one"
   ]
  },
  {
   "cell_type": "code",
   "execution_count": 10,
   "id": "6f80e9fd",
   "metadata": {},
   "outputs": [
    {
     "data": {
      "text/plain": [
       "0.0"
      ]
     },
     "execution_count": 10,
     "metadata": {},
     "output_type": "execute_result"
    }
   ],
   "source": [
    "max_abs_diff(ldle_obj1.d_e, ldle_obj2.d_e)"
   ]
  },
  {
   "cell_type": "code",
   "execution_count": 11,
   "id": "194868cb",
   "metadata": {},
   "outputs": [
    {
     "data": {
      "text/plain": [
       "0.0"
      ]
     },
     "execution_count": 11,
     "metadata": {},
     "output_type": "execute_result"
    }
   ],
   "source": [
    "max_abs_diff(ldle_obj1.neigh_dist, ldle_obj2.neigh_dist)"
   ]
  },
  {
   "cell_type": "code",
   "execution_count": 12,
   "id": "9eca8b95",
   "metadata": {},
   "outputs": [
    {
     "data": {
      "text/plain": [
       "0"
      ]
     },
     "execution_count": 12,
     "metadata": {},
     "output_type": "execute_result"
    }
   ],
   "source": [
    "max_abs_diff(ldle_obj1.neigh_ind, ldle_obj2.neigh_ind)"
   ]
  },
  {
   "cell_type": "code",
   "execution_count": 13,
   "id": "2f4d7ee3",
   "metadata": {},
   "outputs": [
    {
     "ename": "AttributeError",
     "evalue": "'LDLE' object has no attribute 'v0'",
     "output_type": "error",
     "traceback": [
      "\u001b[0;31m---------------------------------------------------------------------------\u001b[0m",
      "\u001b[0;31mAttributeError\u001b[0m                            Traceback (most recent call last)",
      "\u001b[0;32m<ipython-input-13-57189af341d2>\u001b[0m in \u001b[0;36m<module>\u001b[0;34m\u001b[0m\n\u001b[0;32m----> 1\u001b[0;31m \u001b[0mmax_abs_diff\u001b[0m\u001b[0;34m(\u001b[0m\u001b[0mldle_obj1\u001b[0m\u001b[0;34m.\u001b[0m\u001b[0mv0\u001b[0m\u001b[0;34m,\u001b[0m \u001b[0mldle_obj2\u001b[0m\u001b[0;34m.\u001b[0m\u001b[0mv0\u001b[0m\u001b[0;34m)\u001b[0m\u001b[0;34m\u001b[0m\u001b[0;34m\u001b[0m\u001b[0m\n\u001b[0m",
      "\u001b[0;31mAttributeError\u001b[0m: 'LDLE' object has no attribute 'v0'"
     ]
    }
   ],
   "source": [
    "max_abs_diff(ldle_obj1.v0, ldle_obj2.v0)"
   ]
  },
  {
   "cell_type": "code",
   "execution_count": 14,
   "id": "b2b72b56",
   "metadata": {},
   "outputs": [
    {
     "ename": "AttributeError",
     "evalue": "'LDLE' object has no attribute 'L'",
     "output_type": "error",
     "traceback": [
      "\u001b[0;31m---------------------------------------------------------------------------\u001b[0m",
      "\u001b[0;31mAttributeError\u001b[0m                            Traceback (most recent call last)",
      "\u001b[0;32m<ipython-input-14-62a6010573c3>\u001b[0m in \u001b[0;36m<module>\u001b[0;34m\u001b[0m\n\u001b[0;32m----> 1\u001b[0;31m \u001b[0mmax_abs_diff\u001b[0m\u001b[0;34m(\u001b[0m\u001b[0mldle_obj1\u001b[0m\u001b[0;34m.\u001b[0m\u001b[0mL\u001b[0m\u001b[0;34m,\u001b[0m \u001b[0mldle_obj2\u001b[0m\u001b[0;34m.\u001b[0m\u001b[0mL\u001b[0m\u001b[0;34m)\u001b[0m\u001b[0;34m\u001b[0m\u001b[0;34m\u001b[0m\u001b[0m\n\u001b[0m",
      "\u001b[0;31mAttributeError\u001b[0m: 'LDLE' object has no attribute 'L'"
     ]
    }
   ],
   "source": [
    "max_abs_diff(ldle_obj1.L, ldle_obj2.L)"
   ]
  },
  {
   "cell_type": "code",
   "execution_count": 15,
   "id": "eb2e5c53",
   "metadata": {},
   "outputs": [
    {
     "data": {
      "text/plain": [
       "0.0"
      ]
     },
     "execution_count": 15,
     "metadata": {},
     "output_type": "execute_result"
    }
   ],
   "source": [
    "max_abs_diff(ldle_obj1.lmbda, ldle_obj2.lmbda)"
   ]
  },
  {
   "cell_type": "code",
   "execution_count": 16,
   "id": "cf92997a",
   "metadata": {},
   "outputs": [
    {
     "data": {
      "text/plain": [
       "0.0"
      ]
     },
     "execution_count": 16,
     "metadata": {},
     "output_type": "execute_result"
    }
   ],
   "source": [
    "max_abs_diff(ldle_obj1.phi, ldle_obj2.phi)"
   ]
  },
  {
   "cell_type": "code",
   "execution_count": 17,
   "id": "9fe79a3f",
   "metadata": {},
   "outputs": [
    {
     "data": {
      "text/plain": [
       "0.0"
      ]
     },
     "execution_count": 17,
     "metadata": {},
     "output_type": "execute_result"
    }
   ],
   "source": [
    "max_abs_diff(ldle_obj1.gamma, ldle_obj2.gamma)"
   ]
  },
  {
   "cell_type": "code",
   "execution_count": 18,
   "id": "c15f48c0",
   "metadata": {
    "scrolled": true
   },
   "outputs": [
    {
     "data": {
      "text/plain": [
       "0.7285596496553691"
      ]
     },
     "execution_count": 18,
     "metadata": {},
     "output_type": "execute_result"
    }
   ],
   "source": [
    "max_abs_diff(ldle_obj1.Atilde, ldle_obj2.Atilde)"
   ]
  },
  {
   "cell_type": "code",
   "execution_count": 37,
   "id": "ab1e5a5c",
   "metadata": {},
   "outputs": [
    {
     "data": {
      "text/plain": [
       "0"
      ]
     },
     "execution_count": 37,
     "metadata": {},
     "output_type": "execute_result"
    }
   ],
   "source": [
    "max_abs_diff(ldle_obj1.local_param0.Psi_i[:,0], ldle_obj2.local_param0.Psi_i[:,0])"
   ]
  },
  {
   "cell_type": "code",
   "execution_count": 38,
   "id": "d06ea68c",
   "metadata": {},
   "outputs": [
    {
     "data": {
      "text/plain": [
       "78"
      ]
     },
     "execution_count": 38,
     "metadata": {},
     "output_type": "execute_result"
    }
   ],
   "source": [
    "max_abs_diff(ldle_obj1.local_param0.Psi_i[:,1], ldle_obj2.local_param0.Psi_i[:,1])"
   ]
  },
  {
   "cell_type": "code",
   "execution_count": 39,
   "id": "060d2110",
   "metadata": {},
   "outputs": [],
   "source": [
    "k=np.argmax((ldle_obj1.local_param0.Psi_i[:,1]- ldle_obj2.local_param0.Psi_i[:,1])!=0)"
   ]
  },
  {
   "cell_type": "code",
   "execution_count": 43,
   "id": "6d632a05",
   "metadata": {},
   "outputs": [
    {
     "data": {
      "text/plain": [
       "17"
      ]
     },
     "execution_count": 43,
     "metadata": {},
     "output_type": "execute_result"
    }
   ],
   "source": [
    "ldle_obj1.local_param0.Psi_i[k,1]"
   ]
  },
  {
   "cell_type": "code",
   "execution_count": 44,
   "id": "870abc53",
   "metadata": {},
   "outputs": [
    {
     "data": {
      "text/plain": [
       "43"
      ]
     },
     "execution_count": 44,
     "metadata": {},
     "output_type": "execute_result"
    }
   ],
   "source": [
    "ldle_obj2.local_param0.Psi_i[k,1]"
   ]
  },
  {
   "cell_type": "code",
   "execution_count": 51,
   "id": "d2142f0b",
   "metadata": {},
   "outputs": [],
   "source": [
    "t_k_ = ldle_obj1.Atilde[k,0,0]/ldle_obj2.Atilde[k,0,0]"
   ]
  },
  {
   "cell_type": "code",
   "execution_count": 56,
   "id": "177e224d",
   "metadata": {},
   "outputs": [],
   "source": [
    "from scipy.linalg import inv\n",
    "def debug_(self, k, t_k=1, tau=50, delta=0.9,d=2):\n",
    "    # to store i_1, ..., i_d\n",
    "    i = np.zeros(d, dtype='int')\n",
    "    # Grab the precomputed U_k, Atilde_{kij}, gamma_{ki}\n",
    "    U_k = self.U[k,:]\n",
    "    Atilde_k = self.Atilde[k,:,:]\n",
    "    gamma_k = self.gamma[k,:]\n",
    "    print('gamma_k',gamma_k)\n",
    "\n",
    "    # Compute theta_1\n",
    "    Atikde_kii = Atilde_k.diagonal()\n",
    "    print('Atikde_kii',Atikde_kii)\n",
    "    theta_1 = np.percentile(Atikde_kii, tau)\n",
    "    print('theta_1',theta_1)\n",
    "\n",
    "    # Compute Stilde_k\n",
    "    Stilde_k = Atikde_kii >= theta_1\n",
    "    print('Stilde_k',Stilde_k)\n",
    "\n",
    "    # Compute i_1\n",
    "    r_1 = np.argmax(Stilde_k) # argmax finds first index with max value\n",
    "    print('r_1',r_1)\n",
    "    temp = gamma_k * np.abs(Atilde_k[:,r_1])\n",
    "    print('temp',temp)\n",
    "    alpha_1 = np.max(temp * Stilde_k)\n",
    "    print('alpha_1',alpha_1)\n",
    "    i[0] = np.argmax((temp >= delta*alpha_1) & (Stilde_k))\n",
    "    print('i0',i[0])\n",
    "    \n",
    "    for s in range(1,d):\n",
    "        i_prev = i[0:s]\n",
    "        # compute temp variable to help compute Hs_{kij} below\n",
    "        temp = inv(Atilde_k[np.ix_(i_prev,i_prev)])\n",
    "\n",
    "        # Compute theta_s\n",
    "        Hs_kii = Atikde_kii - np.sum(Atilde_k[:,i_prev] * np.dot(temp, Atilde_k[i_prev,:]).T, 1)\n",
    "        temp_ = Hs_kii[Stilde_k]\n",
    "        theta_s = np.percentile(temp_, tau)\n",
    "        print(theta_s, theta_s/t_k)\n",
    "        theta_s=np.max([theta_s,np.min([np.max(temp_),1e-4])])\n",
    "        print(theta_s, theta_s/t_k)\n",
    "        # Compute i_s\n",
    "        r_s = np.argmax((Hs_kii>=theta_s) & Stilde_k)\n",
    "        Hs_kir_s = Atilde_k[:,[r_s]] - np.dot(Atilde_k[:,i_prev], np.dot(temp, Atilde_k[i_prev,r_s][:,np.newaxis]))\n",
    "        temp = gamma_k * np.abs(Hs_kir_s.flatten())\n",
    "        alpha_s = np.max(temp * Stilde_k)\n",
    "        i[s]=np.argmax((temp >= delta*alpha_s) & Stilde_k)\n",
    "        print('i[s]',i[s])"
   ]
  },
  {
   "cell_type": "code",
   "execution_count": 57,
   "id": "a216ee57",
   "metadata": {},
   "outputs": [
    {
     "name": "stdout",
     "output_type": "stream",
     "text": [
      "gamma_k [6.70144925e+02 6.98572958e+02 5.55269576e+01 4.68792196e+01\n",
      " 3.15587033e+03 4.21554724e+03 3.13488807e+02 2.59313471e+02\n",
      " 2.12233236e+02 1.57307254e+02 4.32229980e+01 1.08572964e+03\n",
      " 1.75069862e+03 1.66098508e+04 1.60393031e+04 1.11289015e+02\n",
      " 2.24274827e+02 5.79244737e+02 8.53464732e+02 5.28423575e+03\n",
      " 6.51307015e+03 3.53262960e+01 6.70713827e+04 6.76162875e+04\n",
      " 3.48072387e+01 3.99493170e+02 6.10810415e+02 2.96879008e+03\n",
      " 2.56027928e+03 2.66225835e+04 2.46834980e+04 1.57083557e+02\n",
      " 7.63532182e+01 2.73689858e+05 3.10628201e+05 1.50015034e+03\n",
      " 1.79502346e+03 4.88454983e+03 1.21706530e+04 3.96266621e+01\n",
      " 1.10260332e+05 3.10793400e+04 4.14805665e+02 3.11505742e+02\n",
      " 6.96394378e+01 7.42633061e+01 7.69986814e+05 1.09958950e+06\n",
      " 3.90605949e+04 5.27422194e+04 5.45980849e+01 8.85934086e+01\n",
      " 5.77924792e+03 6.16957921e+03 1.13169484e+03 9.86672789e+02\n",
      " 1.29778059e+05 3.80876560e+05 1.82210472e+02 2.45791339e+02\n",
      " 3.76723009e+01 2.21002410e+06 9.33354592e+05 2.27474996e+05\n",
      " 1.87010982e+05 5.74599501e+01 8.05783746e+01 1.91598959e+04\n",
      " 2.61939744e+04 3.43029747e+03 3.27267391e+03 7.13172850e+02\n",
      " 6.48872851e+02 1.24631758e+02 1.94378916e+02 1.58896962e+05\n",
      " 1.08815066e+06 3.21798466e+01 6.98698778e+05 3.16175467e+05\n",
      " 4.59819590e+05 2.59974261e+05 1.35665232e+02 1.20616502e+02\n",
      " 1.17940915e+05 9.82973181e+04 2.24942249e+03 2.14455914e+03\n",
      " 1.28021339e+04 1.16551325e+04 3.07270787e+01 4.72014732e+02\n",
      " 4.10559554e+02 6.43279716e+01 5.76742169e+01 8.35869951e+05\n",
      " 2.36371435e+05 2.74498103e+06 2.44554304e+06 1.68976323e+06]\n",
      "Atikde_kii [2.51527795e-07 2.50509521e-07 4.05070689e-09 4.11344127e-08\n",
      " 1.87549722e-08 1.87887761e-08 1.43541815e-06 1.46106837e-06\n",
      " 3.56965257e-06 3.60812562e-06 2.43046536e-07 1.40257711e-07\n",
      " 1.38455484e-07 1.08842761e-09 1.03299167e-09 5.72018426e-06\n",
      " 5.77477500e-06 5.15481305e-07 5.18269111e-07 7.85265278e-09\n",
      " 7.95196621e-09 1.11544760e-06 5.62903401e-11 5.32954050e-11\n",
      " 2.22171098e-06 1.07356381e-06 1.08281333e-06 3.74847870e-08\n",
      " 3.56614040e-08 3.70655499e-10 4.15870499e-10 1.23475612e-05\n",
      " 1.17114238e-05 3.21277937e-12 1.92046905e-12 9.93025464e-08\n",
      " 1.04803990e-07 1.51083061e-09 1.83185853e-09 3.84361738e-06\n",
      " 1.69524972e-11 5.53990801e-11 2.10377230e-06 2.04799451e-06\n",
      " 2.16311355e-05 2.23491782e-05 1.69434134e-13 1.17138823e-13\n",
      " 1.24897241e-10 8.83045030e-11 2.39819963e-05 2.77807331e-05\n",
      " 7.18755626e-09 7.29927160e-09 2.61495478e-07 2.43065479e-07\n",
      " 3.69793236e-12 2.00694478e-12 5.47763390e-06 5.86984418e-06\n",
      " 8.75954371e-06 1.53237095e-14 1.61260208e-13 4.81535951e-12\n",
      " 4.23917201e-12 2.32551194e-05 2.73861083e-05 2.99371038e-10\n",
      " 3.77855575e-10 2.19532692e-08 2.31048861e-08 6.53982023e-07\n",
      " 5.70055186e-07 1.07204716e-05 1.16894208e-05 1.55593809e-12\n",
      " 1.27490884e-13 2.10830922e-05 7.59785798e-14 3.42693620e-13\n",
      " 7.58433507e-13 1.08757802e-12 1.52744632e-05 1.55011511e-05\n",
      " 1.54964173e-11 1.61641626e-11 5.57749767e-08 5.42544715e-08\n",
      " 1.46900965e-09 1.58417277e-09 3.47549674e-05 1.57739305e-06\n",
      " 1.46860234e-06 3.04400178e-05 2.97092949e-05 7.52746657e-13\n",
      " 5.93739541e-13 5.86989104e-14 4.51334636e-14 6.22363434e-14]\n",
      "theta_1 3.9309599820369105e-08\n",
      "Stilde_k [ True  True False  True False False  True  True  True  True  True  True\n",
      "  True False False  True  True  True  True False False  True False False\n",
      "  True  True  True False False False False  True  True False False  True\n",
      "  True False False  True False False  True  True  True  True False False\n",
      " False False  True  True False False  True  True False False  True  True\n",
      "  True False False False False  True  True False False False False  True\n",
      "  True  True  True False False  True False False False False  True  True\n",
      " False False  True  True False False  True  True  True  True  True False\n",
      " False False False False]\n",
      "r_1 0\n",
      "temp [1.68560076e-04 8.04892720e-06 1.15717214e-06 3.08523163e-06\n",
      " 1.03167304e-04 2.44641630e-04 1.50681455e-05 1.56206244e-04\n",
      " 1.96104917e-04 3.56615546e-05 6.95613462e-06 1.57423908e-04\n",
      " 1.89807967e-04 1.96233470e-04 1.24395187e-04 6.46314691e-05\n",
      " 2.36610876e-04 1.22020435e-04 2.37802666e-04 1.94800572e-04\n",
      " 8.57797590e-05 1.21576296e-05 9.62914468e-05 1.55112436e-04\n",
      " 1.69126086e-05 1.83548992e-04 1.27248110e-04 1.67390711e-04\n",
      " 1.59365009e-04 1.47512939e-04 1.02742246e-04 1.28723660e-04\n",
      " 1.17344623e-04 1.58328879e-04 1.45986226e-05 1.64880868e-04\n",
      " 1.56251229e-04 5.78754359e-05 4.55285731e-06 2.52566519e-05\n",
      " 5.16838327e-05 9.43504567e-05 2.57915782e-04 9.80583325e-05\n",
      " 5.76860145e-06 1.74656357e-04 2.50800000e-05 1.56887654e-05\n",
      " 6.66247614e-05 1.46401087e-04 4.11525730e-05 2.15598104e-04\n",
      " 1.75172340e-04 4.93148566e-05 1.77977590e-04 1.53735792e-04\n",
      " 7.05516131e-05 1.85458993e-04 1.01387024e-04 2.50835019e-04\n",
      " 3.65062563e-05 9.31914977e-05 7.34375439e-05 1.25081037e-04\n",
      " 6.82512363e-05 2.47885403e-05 1.99433586e-04 6.73913308e-05\n",
      " 1.00116811e-04 1.38025978e-04 1.04237366e-04 1.90296225e-04\n",
      " 1.49220880e-04 1.66143290e-04 1.83207824e-04 1.23128012e-05\n",
      " 1.19908562e-04 4.85369530e-05 9.14503231e-05 6.25202167e-05\n",
      " 1.55502555e-05 4.86068181e-05 8.60260822e-06 2.31284781e-04\n",
      " 6.24398580e-05 6.09113482e-05 1.66416596e-05 1.88216941e-04\n",
      " 1.48591078e-04 3.65911394e-05 5.93518747e-05 1.64224409e-04\n",
      " 1.71557393e-04 3.24226537e-05 1.54544650e-04 1.10498911e-04\n",
      " 6.58474120e-05 4.44393001e-05 4.18323289e-05 3.69438673e-05]\n",
      "alpha_1 0.00025791578236838297\n",
      "i0 16\n",
      "8.543339977828262e-07 0.009708342805929943\n",
      "8.543339977828262e-07 0.009708342805929943\n",
      "i[s] 43\n"
     ]
    }
   ],
   "source": [
    "debug_(ldle_obj1, k, t_k_)"
   ]
  },
  {
   "cell_type": "code",
   "execution_count": 55,
   "id": "72a1c6aa",
   "metadata": {},
   "outputs": [
    {
     "name": "stdout",
     "output_type": "stream",
     "text": [
      "gamma_k [6.70144925e+02 6.98572958e+02 5.55269576e+01 4.68792196e+01\n",
      " 3.15587033e+03 4.21554724e+03 3.13488807e+02 2.59313471e+02\n",
      " 2.12233236e+02 1.57307254e+02 4.32229980e+01 1.08572964e+03\n",
      " 1.75069862e+03 1.66098508e+04 1.60393031e+04 1.11289015e+02\n",
      " 2.24274827e+02 5.79244737e+02 8.53464732e+02 5.28423575e+03\n",
      " 6.51307015e+03 3.53262960e+01 6.70713827e+04 6.76162875e+04\n",
      " 3.48072387e+01 3.99493170e+02 6.10810415e+02 2.96879008e+03\n",
      " 2.56027928e+03 2.66225835e+04 2.46834980e+04 1.57083557e+02\n",
      " 7.63532182e+01 2.73689858e+05 3.10628201e+05 1.50015034e+03\n",
      " 1.79502346e+03 4.88454983e+03 1.21706530e+04 3.96266621e+01\n",
      " 1.10260332e+05 3.10793400e+04 4.14805665e+02 3.11505742e+02\n",
      " 6.96394378e+01 7.42633061e+01 7.69986814e+05 1.09958950e+06\n",
      " 3.90605949e+04 5.27422194e+04 5.45980849e+01 8.85934086e+01\n",
      " 5.77924792e+03 6.16957921e+03 1.13169484e+03 9.86672789e+02\n",
      " 1.29778059e+05 3.80876560e+05 1.82210472e+02 2.45791339e+02\n",
      " 3.76723009e+01 2.21002410e+06 9.33354592e+05 2.27474996e+05\n",
      " 1.87010982e+05 5.74599501e+01 8.05783746e+01 1.91598959e+04\n",
      " 2.61939744e+04 3.43029747e+03 3.27267391e+03 7.13172850e+02\n",
      " 6.48872851e+02 1.24631758e+02 1.94378916e+02 1.58896962e+05\n",
      " 1.08815066e+06 3.21798466e+01 6.98698778e+05 3.16175467e+05\n",
      " 4.59819590e+05 2.59974261e+05 1.35665232e+02 1.20616502e+02\n",
      " 1.17940915e+05 9.82973181e+04 2.24942249e+03 2.14455914e+03\n",
      " 1.28021339e+04 1.16551325e+04 3.07270787e+01 4.72014732e+02\n",
      " 4.10559554e+02 6.43279716e+01 5.76742169e+01 8.35869951e+05\n",
      " 2.36371435e+05 2.74498103e+06 2.44554304e+06 1.68976323e+06]\n",
      "Atikde_kii [2.85827097e-03 2.84669966e-03 4.60307692e-05 4.67436600e-04\n",
      " 2.13124726e-04 2.13508862e-04 1.63115731e-02 1.66030529e-02\n",
      " 4.05642417e-02 4.10014356e-02 2.76189301e-03 1.59383794e-03\n",
      " 1.57335808e-03 1.23684980e-05 1.17385440e-05 6.50021068e-02\n",
      " 6.56224562e-02 5.85774327e-03 5.88942288e-03 8.92347083e-05\n",
      " 9.03632703e-05 1.26755435e-02 6.39663082e-07 6.05629722e-07\n",
      " 2.52467207e-02 1.21995912e-02 1.23046994e-02 4.25963573e-04\n",
      " 4.05243307e-04 4.21199514e-06 4.72580207e-06 1.40313224e-01\n",
      " 1.33084388e-01 3.65088637e-08 2.18235163e-08 1.12843825e-03\n",
      " 1.19095467e-03 1.71685331e-05 2.08165783e-05 4.36774788e-02\n",
      " 1.92642052e-07 6.29535126e-07 2.39065081e-02 2.32726695e-02\n",
      " 2.45808406e-01 2.53967984e-01 1.92538827e-09 1.33112325e-09\n",
      " 1.41928711e-06 1.00346046e-06 2.72522740e-01 3.15690211e-01\n",
      " 8.16767919e-05 8.29462846e-05 2.97154011e-03 2.76210826e-03\n",
      " 4.20219670e-08 2.28061952e-08 6.22458521e-02 6.67027879e-02\n",
      " 9.95402892e-02 1.74133096e-10 1.83250273e-09 5.47200053e-08\n",
      " 4.81724187e-08 2.64262773e-01 3.11205838e-01 3.40194429e-06\n",
      " 4.29381420e-06 2.49469018e-04 2.62555576e-04 7.43161536e-03\n",
      " 6.47790112e-03 1.21823565e-01 1.32834353e-01 1.76811181e-08\n",
      " 1.44876033e-09 2.39580641e-01 8.63393124e-10 3.89424645e-09\n",
      " 8.61856428e-09 1.23588436e-08 1.73573480e-01 1.76149480e-01\n",
      " 1.76095687e-07 1.83683702e-07 6.33806679e-04 6.16528208e-04\n",
      " 1.66932948e-05 1.80019669e-05 3.94942889e-01 1.79249245e-02\n",
      " 1.66886663e-02 3.45909362e-01 3.37605690e-01 8.55394097e-09\n",
      " 6.74704157e-09 6.67033204e-10 5.12880369e-10 7.07231315e-10]\n",
      "theta_1 0.0004467000863953407\n",
      "Stilde_k [ True  True False  True False False  True  True  True  True  True  True\n",
      "  True False False  True  True  True  True False False  True False False\n",
      "  True  True  True False False False False  True  True False False  True\n",
      "  True False False  True False False  True  True  True  True False False\n",
      " False False  True  True False False  True  True False False  True  True\n",
      "  True False False False False  True  True False False False False  True\n",
      "  True  True  True False False  True False False False False  True  True\n",
      " False False  True  True False False  True  True  True  True  True False\n",
      " False False False False]\n",
      "r_1 0\n",
      "temp [1.91545578 0.0914651  0.01314969 0.03505946 1.17235596 2.78001908\n",
      " 0.17122896 1.77507131 2.22846541 0.40524502 0.079047   1.7889084\n",
      " 2.15690915 2.22992624 1.41358195 0.73444866 2.68876048 1.38659613\n",
      " 2.70230355 2.2136433  0.97477018 0.13815491 1.0942212  1.76264166\n",
      " 0.19218877 2.08578442 1.44600154 1.90216755 1.81096637 1.67628373\n",
      " 1.16752576 1.46276915 1.33346189 1.79919216 0.16589347 1.8736466\n",
      " 1.7755825  0.65767554 0.05173703 0.28700746 0.5873164  1.07216449\n",
      " 2.93086174 1.11429945 0.0655523  1.98473172 0.28500006 0.17828146\n",
      " 0.75709971 1.66364904 0.46764297 2.44997894 1.99059517 0.56039621\n",
      " 2.02247302 1.74699798 0.80172304 2.10748897 1.1521255  2.85039851\n",
      " 0.4148439  1.0589945  0.83451771 1.42137571 0.77558238 0.28168801\n",
      " 2.2662912  0.76581073 1.13769126 1.56847734 1.18451576 2.16245753\n",
      " 1.69569215 1.88799231 2.0819075  0.13991822 1.36259756 0.55155639\n",
      " 1.03920842 0.71045715 0.17670748 0.55235032 0.09775693 2.62823666\n",
      " 0.70954398 0.69217455 0.18910981 2.1388293  1.68853531 0.41580848\n",
      " 0.67445326 1.86618684 1.94951621 0.36843932 1.75618955 1.25566969\n",
      " 0.74826619 0.50499215 0.47536747 0.41981676]\n",
      "alpha_1 2.9308617435219864\n",
      "i0 16\n",
      "0.009708342805929939 0.009708342805929939\n",
      "0.009708342805929939 0.009708342805929939\n",
      "i[s] 43\n"
     ]
    }
   ],
   "source": [
    "debug_(ldle_obj2, k)"
   ]
  },
  {
   "cell_type": "code",
   "execution_count": null,
   "id": "b690bba0",
   "metadata": {},
   "outputs": [],
   "source": [
    "max_abs_diff(ldle_obj1.local_param0.zeta, ldle_obj2.local_param0.zeta)"
   ]
  },
  {
   "cell_type": "code",
   "execution_count": null,
   "id": "7fd30eaf",
   "metadata": {},
   "outputs": [],
   "source": [
    "min_max_mean(ldle_obj1.local_param0.zeta)"
   ]
  },
  {
   "cell_type": "code",
   "execution_count": null,
   "id": "840a5222",
   "metadata": {},
   "outputs": [],
   "source": [
    "min_max_mean(ldle_obj2.local_param0.zeta)"
   ]
  },
  {
   "cell_type": "code",
   "execution_count": null,
   "id": "de07eec7",
   "metadata": {},
   "outputs": [],
   "source": [
    "max_abs_diff(ldle_obj1.local_param0.Psi_gamma, ldle_obj2.local_param0.Psi_gamma)"
   ]
  },
  {
   "cell_type": "code",
   "execution_count": null,
   "id": "4715e160",
   "metadata": {},
   "outputs": [],
   "source": [
    "max_abs_diff(ldle_obj1.local_param.Psi_i, ldle_obj2.local_param.Psi_i)"
   ]
  },
  {
   "cell_type": "code",
   "execution_count": null,
   "id": "fd0ade10",
   "metadata": {},
   "outputs": [],
   "source": [
    "min_max_mean(ldle_obj1.local_param.zeta)"
   ]
  },
  {
   "cell_type": "code",
   "execution_count": null,
   "id": "6c44dad4",
   "metadata": {},
   "outputs": [],
   "source": [
    "min_max_mean(ldle_obj2.local_param.zeta)"
   ]
  },
  {
   "cell_type": "code",
   "execution_count": null,
   "id": "cfb29b47",
   "metadata": {},
   "outputs": [],
   "source": []
  },
  {
   "cell_type": "code",
   "execution_count": null,
   "id": "dac96054",
   "metadata": {},
   "outputs": [],
   "source": [
    "max_abs_diff(ldle_obj1.local_param.Psi_gamma, ldle_obj2.local_param.Psi_gamma)"
   ]
  },
  {
   "cell_type": "code",
   "execution_count": null,
   "id": "894dad3e",
   "metadata": {},
   "outputs": [],
   "source": []
  },
  {
   "cell_type": "code",
   "execution_count": null,
   "id": "e52885a2",
   "metadata": {},
   "outputs": [],
   "source": []
  }
 ],
 "metadata": {
  "kernelspec": {
   "display_name": "Python 3",
   "language": "python",
   "name": "python3"
  },
  "language_info": {
   "codemirror_mode": {
    "name": "ipython",
    "version": 3
   },
   "file_extension": ".py",
   "mimetype": "text/x-python",
   "name": "python",
   "nbconvert_exporter": "python",
   "pygments_lexer": "ipython3",
   "version": "3.8.8"
  }
 },
 "nbformat": 4,
 "nbformat_minor": 5
}
