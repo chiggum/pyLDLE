{
 "cells": [
  {
   "cell_type": "code",
   "execution_count": 1,
   "id": "d2d7282e",
   "metadata": {},
   "outputs": [],
   "source": [
    "%matplotlib inline"
   ]
  },
  {
   "cell_type": "code",
   "execution_count": 2,
   "id": "339da2dd",
   "metadata": {},
   "outputs": [
    {
     "name": "stdout",
     "output_type": "stream",
     "text": [
      "matplotlib.get_backend() =  module://ipykernel.pylab.backend_inline\n",
      "matplotlib.get_backend() =  module://ipykernel.pylab.backend_inline\n"
     ]
    }
   ],
   "source": [
    "import sys\n",
    "sys.path.insert(0,'..')\n",
    "import pickle\n",
    "\n",
    "import visualize\n",
    "import datasets\n",
    "import ldle\n",
    "# Uncomment to reload a library\n",
    "from importlib import reload \n",
    "visualize = reload(visualize)\n",
    "ldle = reload(ldle)\n",
    "datasets = reload(datasets)"
   ]
  },
  {
   "cell_type": "code",
   "execution_count": 3,
   "id": "d20b0284",
   "metadata": {},
   "outputs": [],
   "source": [
    "save_dir_root = '../data/ldle/double_barbell/'"
   ]
  },
  {
   "cell_type": "code",
   "execution_count": 4,
   "id": "6232f85f",
   "metadata": {},
   "outputs": [
    {
     "name": "stdout",
     "output_type": "stream",
     "text": [
      "X.shape =  (10227, 2)\n"
     ]
    }
   ],
   "source": [
    "X, labelsMat, ddX = datasets.Datasets().barbell()"
   ]
  },
  {
   "cell_type": "markdown",
   "id": "3afa88a7",
   "metadata": {},
   "source": [
    "# LDLE"
   ]
  },
  {
   "cell_type": "code",
   "execution_count": 5,
   "id": "00f88116",
   "metadata": {},
   "outputs": [],
   "source": [
    "ldle_obj = ldle.LDLE(X=X, eta_min=5, ddX=ddX, max_iter0=15, tau=90, N=200,\n",
    "                     vis = visualize.Visualize(save_dir_root),\n",
    "                     vis_y_options = {'cmap0':'summer', # for the interior\n",
    "                                      'cmap1':'jet', # for the tear\n",
    "                                      'labels':labelsMat[:,0]})"
   ]
  },
  {
   "cell_type": "code",
   "execution_count": 6,
   "id": "719c3266",
   "metadata": {
    "scrolled": false
   },
   "outputs": [
    {
     "name": "stdout",
     "output_type": "stream",
     "text": [
      "Doubling manifold\n",
      "No. of points on the boundary = 764\n",
      "Doubled manifold\n",
      "A_k, Atilde_k: 0 points processed...\n",
      "A_k, Atilde_k: 4922 points processed...\n",
      "A_k, Atilde_k: 9844 points processed...\n",
      "A_k, Atilde_k: 14766 points processed...\n",
      "A_k, Atilde_k: 19688 points processed...\n",
      "Atilde_k, Atilde_k: all points processed...\n",
      "\n",
      "Constructing low distortion local views using LDLE...\n",
      "local_param: 0 points processed...\n",
      "local_param: 4922 points processed...\n",
      "local_param: 9844 points processed...\n",
      "local_param: 14766 points processed...\n",
      "local_param: 19688 points processed...\n",
      "local_param: all 19690 points processed...\n",
      "After iter 1, max distortion is 4.752088\n",
      "After iter 2, max distortion is 4.113866\n",
      "After iter 3, max distortion is 4.113866\n",
      "After iter 4, max distortion is 4.113866\n",
      "After iter 5, max distortion is 4.113866\n",
      "After iter 6, max distortion is 4.113866\n",
      "Max local distortion = 4.111742200581165\n",
      "###############\n",
      "Took 339.1 seconds to perform step 1: construct low distoriton local views\n",
      "###############\n",
      "\n",
      "Clustering to obtain low distortion intermediate views...\n",
      "# non-empty views with sz < 2 = 10227\n",
      "#nodes in views with sz < 2 = 10227\n",
      "Remaining #nodes in views with sz < 2 = 0\n",
      "# non-empty views with sz < 3 = 417\n",
      "#nodes in views with sz < 3 = 834\n",
      "Remaining #nodes in views with sz < 3 = 0\n",
      "# non-empty views with sz < 4 = 376\n",
      "#nodes in views with sz < 4 = 1128\n",
      "Remaining #nodes in views with sz < 4 = 0\n",
      "# non-empty views with sz < 5 = 259\n",
      "#nodes in views with sz < 5 = 1036\n",
      "Remaining #nodes in views with sz < 5 = 0\n",
      "After clustering, max distortion is 8.602641\n",
      "###############\n",
      "Took 58.6 seconds to perform step 2: construct intermediate views.\n",
      "###############\n",
      "\n",
      "Initializing parameters and computing initial global embedding...\n",
      "Ambiguous overlaps checked for 0 intermediate views\n",
      "Ambiguous overlaps checked for 304 intermediate views\n",
      "Ambiguous overlaps checked for 608 intermediate views\n",
      "Ambiguous overlaps checked for 912 intermediate views\n",
      "Ambiguous overlaps checked for 1216 intermediate views\n",
      "Ambiguous overlaps checked for 1219 points\n",
      "Seq of intermediate views and their predecessors computed.\n",
      "Initial alignment of 304 views completed\n",
      "Initial alignment of 608 views completed\n",
      "Initial alignment of 912 views completed\n",
      "Initial alignment of 1216 views completed\n",
      "error: 0.0018729610870975833\n"
     ]
    },
    {
     "data": {
      "image/png": "[encoded data removed]",
      "text/plain": [
       "<Figure size 432x288 with 1 Axes>"
      ]
     },
     "metadata": {
      "needs_background": "light"
     },
     "output_type": "display_data"
    },
    {
     "name": "stdout",
     "output_type": "stream",
     "text": [
      "###############\n",
      "Took 20.9 seconds to compute initial global embedding.\n",
      "###############\n",
      "\n",
      "Refining parameters and computing final global embedding...\n",
      "Using GPA...\n",
      "Iteration: 0\n",
      "error: 0.0008831987436189387\n"
     ]
    },
    {
     "data": {
      "image/png": "[encoded data removed]",
      "text/plain": [
       "<Figure size 432x288 with 1 Axes>"
      ]
     },
     "metadata": {
      "needs_background": "light"
     },
     "output_type": "display_data"
    },
    {
     "name": "stdout",
     "output_type": "stream",
     "text": [
      "Iteration: 1\n",
      "error: 0.0007867025331298839\n",
      "Iteration: 2\n",
      "error: 0.000787482824006142\n",
      "Iteration: 3\n",
      "error: 0.0007509708708307836\n",
      "Iteration: 4\n",
      "error: 0.0007171797564192065\n",
      "Iteration: 5\n",
      "error: 0.0006635381268563696\n"
     ]
    },
    {
     "data": {
      "image/png": "[encoded data removed]",
      "text/plain": [
       "<Figure size 432x288 with 1 Axes>"
      ]
     },
     "metadata": {
      "needs_background": "light"
     },
     "output_type": "display_data"
    },
    {
     "name": "stdout",
     "output_type": "stream",
     "text": [
      "Iteration: 6\n",
      "error: 0.0006103240277989803\n",
      "Iteration: 7\n",
      "error: 0.0004897712542073573\n",
      "Iteration: 8\n",
      "error: 0.0004714695645921664\n",
      "Iteration: 9\n",
      "error: 0.00046548762454298053\n",
      "Iteration: 10\n",
      "error: 0.0004620340153022459\n"
     ]
    },
    {
     "data": {
      "image/png": "[encoded data removed]",
      "text/plain": [
       "<Figure size 432x288 with 1 Axes>"
      ]
     },
     "metadata": {
      "needs_background": "light"
     },
     "output_type": "display_data"
    },
    {
     "name": "stdout",
     "output_type": "stream",
     "text": [
      "Iteration: 11\n",
      "error: 0.00045963961938205966\n",
      "Iteration: 12\n",
      "error: 0.0004577450543137225\n",
      "Iteration: 13\n",
      "error: 0.00045625755900050794\n",
      "Iteration: 14\n",
      "error: 0.00045493059522530517\n"
     ]
    },
    {
     "data": {
      "image/png": "[encoded data removed]",
      "text/plain": [
       "<Figure size 432x288 with 1 Axes>"
      ]
     },
     "metadata": {
      "needs_background": "light"
     },
     "output_type": "display_data"
    },
    {
     "name": "stdout",
     "output_type": "stream",
     "text": [
      "###############\n",
      "Took 524.1 seconds to refine global embedding.\n",
      "###############\n",
      "###############\n",
      "Took 551.7 seconds to perform step 3: compute global embedding.\n",
      "###############\n"
     ]
    }
   ],
   "source": [
    "ldle_obj.fit()"
   ]
  },
  {
   "cell_type": "markdown",
   "id": "98c6ee1e",
   "metadata": {},
   "source": [
    "# Optionally save for further visualizations using Visualization.ipynb"
   ]
  },
  {
   "cell_type": "code",
   "execution_count": 7,
   "id": "30521e33",
   "metadata": {},
   "outputs": [],
   "source": [
    "save_path = save_dir_root+'/ldle_obj.dat'\n",
    "with open(save_path, \"wb\") as f:\n",
    "    pickle.dump([X, labelsMat, ldle_obj], f)"
   ]
  },
  {
   "cell_type": "code",
   "execution_count": null,
   "id": "6cdfda45",
   "metadata": {},
   "outputs": [],
   "source": []
  }
 ],
 "metadata": {
  "kernelspec": {
   "display_name": "Python 3",
   "language": "python",
   "name": "python3"
  },
  "language_info": {
   "codemirror_mode": {
    "name": "ipython",
    "version": 3
   },
   "file_extension": ".py",
   "mimetype": "text/x-python",
   "name": "python",
   "nbconvert_exporter": "python",
   "pygments_lexer": "ipython3",
   "version": "3.8.8"
  }
 },
 "nbformat": 4,
 "nbformat_minor": 5
}
