{
 "cells": [
  {
   "cell_type": "code",
   "execution_count": null,
   "metadata": {},
   "outputs": [],
   "source": [
    "import visualize\n",
    "import datasets\n",
    "import ldle\n",
    "# Uncomment to reload a library\n",
    "# from importlib import reload \n",
    "# visualize = reload(visualize)\n",
    "# ldle = reload(ldle)\n",
    "# datasets = reload(datasets)\n",
    "%matplotlib qt"
   ]
  },
  {
   "cell_type": "code",
   "execution_count": null,
   "metadata": {},
   "outputs": [],
   "source": [
    "def rectangle(use_geotorch = False):\n",
    "    X, labelsMat = datasets.Datasets().rectanglegrid()\n",
    "    ldle_obj = ldle.LDLE(X=X, eta_min=5, use_geotorch = use_geotorch,\n",
    "                         vis = visualize.Visualize(),\n",
    "                         vis_y_options = {'cmap0':'summer',\n",
    "                                          'cmap1':'jet',\n",
    "                                          'labels':labelsMat[:,0]})\n",
    "    return X, labelsMat, ldle_obj\n",
    "\n",
    "def barbell(use_geotorch = False):\n",
    "    X, labelsMat = datasets.Datasets().barbell()\n",
    "    ldle_obj = ldle.LDLE(X=X, eta_min=10, use_geotorch = use_geotorch,\n",
    "                         vis = visualize.Visualize(),\n",
    "                         vis_y_options = {'cmap0':'summer',\n",
    "                                          'cmap1':'jet',\n",
    "                                          'labels':labelsMat[:,0]})\n",
    "    return X, labelsMat, ldle_obj\n",
    "\n",
    "def squarewithtwoholes(use_geotorch = False):\n",
    "    X, labelsMat = datasets.Datasets().squarewithtwoholes()\n",
    "    ldle_obj = ldle.LDLE(X=X, eta_min=10, use_geotorch = use_geotorch,\n",
    "                         vis = visualize.Visualize(),\n",
    "                         vis_y_options = {'cmap0':'summer',\n",
    "                                          'cmap1':'jet',\n",
    "                                          'labels':labelsMat[:,0]})\n",
    "    return X, labelsMat, ldle_obj\n",
    "\n",
    "def spherewithhole(use_geotorch = False):\n",
    "    X, labelsMat = datasets.Datasets().spherewithhole()\n",
    "    ldle_obj = ldle.LDLE(X=X, eta_min=10, use_geotorch = use_geotorch,\n",
    "                         vis = visualize.Visualize(),\n",
    "                         vis_y_options = {'cmap0':'hsv',\n",
    "                                          'cmap1':'jet',\n",
    "                                          'labels':labelsMat[:,0]})\n",
    "    return X, labelsMat, ldle_obj\n",
    "\n",
    "def swissrollwithhole(use_geotorch = False):\n",
    "    X, labelsMat = datasets.Datasets().swissrollwithhole()\n",
    "    ldle_obj = ldle.LDLE(X=X, eta_min=10, use_geotorch = use_geotorch,\n",
    "                         vis = visualize.Visualize(),\n",
    "                         vis_y_options = {'cmap0':'summer',\n",
    "                                          'cmap1':'jet',\n",
    "                                          'labels':labelsMat[:,0]})\n",
    "    return X, labelsMat, ldle_obj\n",
    "\n",
    "def noisyswissroll(use_geotorch = False):\n",
    "    X, labelsMat = datasets.Datasets().noisyswissroll()\n",
    "    ldle_obj = ldle.LDLE(X=X, eta_min=17, use_geotorch = use_geotorch,\n",
    "                         vis = visualize.Visualize(),\n",
    "                         vis_y_options = {'cmap0':'summer',\n",
    "                                          'cmap1':'jet',\n",
    "                                          'labels':labelsMat[:,0]})\n",
    "    return X, labelsMat, ldle_obj\n",
    "\n",
    "def sphere(use_geotorch = False):\n",
    "    X, labelsMat = datasets.Datasets().sphere()\n",
    "    ldle_obj = ldle.LDLE(X=X, eta_min=10, use_geotorch = use_geotorch,\n",
    "                         vis = visualize.Visualize(),\n",
    "                         vis_y_options = {'cmap0':'hsv',\n",
    "                                          'cmap1':'jet',\n",
    "                                          'labels':labelsMat[:,0]})\n",
    "    return X, labelsMat, ldle_obj\n",
    "    \n",
    "def flattorus4d(use_geotorch = False):\n",
    "    X, labelsMat = datasets.Datasets().flattorus4d()\n",
    "    ldle_obj = ldle.LDLE(X=X, eta_min=20, use_geotorch = use_geotorch,\n",
    "                         vis = visualize.Visualize(),\n",
    "                         vis_y_options = {'cmap0':'hsv',\n",
    "                                          'cmap1':'jet',\n",
    "                                          'labels':labelsMat[:,0]})\n",
    "    return X, labelsMat, ldle_obj\n",
    "\n",
    "def curvedtorus3d(use_geotorch = False):\n",
    "    X, labelsMat = datasets.Datasets().curvedtorus3d()\n",
    "    ldle_obj = ldle.LDLE(X=X, eta_min=17, max_iter0=30, use_geotorch = use_geotorch,\n",
    "                         vis = visualize.Visualize(),\n",
    "                         vis_y_options = {'cmap0':'summer',\n",
    "                                          'cmap1':'jet',\n",
    "                                          'labels':labelsMat[:,0]})\n",
    "    return X, labelsMat, ldle_obj\n",
    "\n",
    "def kleinbottle4d(use_geotorch = False):\n",
    "    X, labelsMat = datasets.Datasets().kleinbottle4d()\n",
    "    ldle_obj = ldle.LDLE(X=X, eta_min=20, use_geotorch = use_geotorch,\n",
    "                         vis = visualize.Visualize(),\n",
    "                         vis_y_options = {'cmap0':'hsv',\n",
    "                                          'cmap1':'jet',\n",
    "                                          'labels':labelsMat[:,0]})\n",
    "    return X, labelsMat, ldle_obj\n",
    "\n",
    "def mobiusstrip3d(use_geotorch = False):\n",
    "    X, labelsMat = datasets.Datasets().mobiusstrip3d()\n",
    "    ldle_obj = ldle.LDLE(X=X, eta_min=10, use_geotorch = use_geotorch,\n",
    "                         vis = visualize.Visualize(),\n",
    "                         vis_y_options = {'cmap0':'hsv',\n",
    "                                          'cmap1':'jet',\n",
    "                                          'labels':labelsMat[:,0]})\n",
    "    return X, labelsMat, ldle_obj"
   ]
  },
  {
   "cell_type": "markdown",
   "metadata": {},
   "source": [
    "# Run one of the above examples"
   ]
  },
  {
   "cell_type": "code",
   "execution_count": null,
   "metadata": {
    "scrolled": false
   },
   "outputs": [],
   "source": [
    "X, labelsMat, ldle_obj = squarewithtwoholes(True)"
   ]
  },
  {
   "cell_type": "markdown",
   "metadata": {},
   "source": [
    "# Visualizations"
   ]
  },
  {
   "cell_type": "code",
   "execution_count": null,
   "metadata": {},
   "outputs": [],
   "source": [
    "vis = visualize.Visualize()"
   ]
  },
  {
   "cell_type": "markdown",
   "metadata": {},
   "source": [
    "# Dataset $\\{x_k\\}_{k=1}^{n}$"
   ]
  },
  {
   "cell_type": "code",
   "execution_count": null,
   "metadata": {},
   "outputs": [],
   "source": [
    "vis.data(X, labelsMat[:,0])"
   ]
  },
  {
   "cell_type": "markdown",
   "metadata": {},
   "source": [
    "# Eigenvalues $(\\lambda_i)_{i=1}^{N}$"
   ]
  },
  {
   "cell_type": "code",
   "execution_count": null,
   "metadata": {},
   "outputs": [],
   "source": [
    "vis.eigenvalues(ldle_obj.lmbda)"
   ]
  },
  {
   "cell_type": "markdown",
   "metadata": {},
   "source": [
    "# Visualize Eigenvectors $\\phi_{i}$ given $i$"
   ]
  },
  {
   "cell_type": "code",
   "execution_count": null,
   "metadata": {},
   "outputs": [],
   "source": [
    "vis.eigenvector(X, ldle_obj.phi, int(ldle_obj.N/2)) # total #eigenvectors = ldle.N"
   ]
  },
  {
   "cell_type": "markdown",
   "metadata": {},
   "source": [
    "# Distortion of Local Parameterizations $\\zeta_{kk}$"
   ]
  },
  {
   "cell_type": "code",
   "execution_count": null,
   "metadata": {},
   "outputs": [],
   "source": [
    "# Before postprocessing\n",
    "vis.distortion(X, ldle_obj.zeta0)"
   ]
  },
  {
   "cell_type": "code",
   "execution_count": null,
   "metadata": {},
   "outputs": [],
   "source": [
    "# After postprocessing\n",
    "vis.distortion(X, ldle_obj.zeta)"
   ]
  },
  {
   "cell_type": "markdown",
   "metadata": {},
   "source": [
    "- This is an interactive plot. Double click on first subplot to choose $x_k$. Press any key to quit.\n",
    "### Local views in the ambient and embedding space $U_k$ and $\\Psi_k(U_k)$ by choosing $x_k$\n",
    "### Chosen eigenvectors to construct the local parameterization $\\phi_{i_1}, \\ldots, \\phi_{i_d}$ where $i_s \\equiv i_s(k)$\n",
    "### Verify that chosen eigenvectors form orthonormal frame upto scale"
   ]
  },
  {
   "cell_type": "code",
   "execution_count": null,
   "metadata": {
    "scrolled": false
   },
   "outputs": [],
   "source": [
    "# Before postprocessing\n",
    "vis.local_views(ldle_obj.X, ldle_obj.phi, ldle_obj.U, ldle_obj.gamma, ldle_obj.Atilde,\n",
    "                  ldle_obj.Psi_gamma0, ldle_obj.Psi_i0, ldle_obj.zeta0)"
   ]
  },
  {
   "cell_type": "code",
   "execution_count": null,
   "metadata": {},
   "outputs": [],
   "source": [
    "# After postprocessing\n",
    "vis.local_views(ldle_obj.X, ldle_obj.phi, ldle_obj.U, ldle_obj.gamma, ldle_obj.Atilde,\n",
    "                  ldle_obj.Psi_gamma, ldle_obj.Psi_i, ldle_obj.zeta)"
   ]
  },
  {
   "cell_type": "markdown",
   "metadata": {},
   "source": [
    "# Chosen eigenvectors' indices' for local views $i_1, i_2, \\ldots, i_d$"
   ]
  },
  {
   "cell_type": "code",
   "execution_count": null,
   "metadata": {},
   "outputs": [],
   "source": [
    "vis.chosen_eigevec_inds_for_local_views(ldle_obj.X, ldle_obj.Psi_i)"
   ]
  },
  {
   "cell_type": "markdown",
   "metadata": {},
   "source": [
    "- This is an interactive plot. Double click on first subplot to choose $x_k$. Press any key to quit.\n",
    "### Intermediate views in the ambient and embedding space $\\widetilde{U}_m$ and $\\widetilde{\\Psi}_m(\\widetilde{U}_m)$ by choosing $x_k$ ($m = c_k$)\n",
    "### Chosen eigenvectors to construct the local parameterization $\\phi_{i_1}, \\ldots, \\phi_{i_d}$ where $i_s \\equiv i_s(m)$ and $m = c_k$\n",
    "### Verify that chosen eigenvectors form orthonormal frame upto scale"
   ]
  },
  {
   "cell_type": "code",
   "execution_count": null,
   "metadata": {},
   "outputs": [],
   "source": [
    "vis.intermediate_views(ldle_obj.X, ldle_obj.phi, ldle_obj.Utilde, ldle_obj.gamma, ldle_obj.Atilde,\n",
    "                         ldle_obj.Psitilde_gamma, ldle_obj.Psitilde_i, ldle_obj.zetatilde, ldle_obj.c)"
   ]
  },
  {
   "cell_type": "markdown",
   "metadata": {},
   "source": [
    "# Chosen eigenvectors' indices' for intermediate views $i_1, i_2, \\ldots, i_d$"
   ]
  },
  {
   "cell_type": "code",
   "execution_count": null,
   "metadata": {},
   "outputs": [],
   "source": [
    "vis.chosen_eigevec_inds_for_intermediate_views(ldle_obj.X, ldle_obj.Psitilde_i, ldle_obj.c)"
   ]
  },
  {
   "cell_type": "markdown",
   "metadata": {},
   "source": [
    "- This is an interactive plot. Double click on second subplot to choose threshold. Press any key to quit.\n",
    "# Compare high and low distortion local neighbourhoods based on\n",
    "- angle between gradients of chosen eigenvectors for the local parameterizations\n",
    "- difference between the local scaling factors of the chosen eigenvectors"
   ]
  },
  {
   "cell_type": "code",
   "execution_count": null,
   "metadata": {},
   "outputs": [],
   "source": [
    "# Before postprocessing\n",
    "vis.compare_local_high_low_distortion(ldle_obj.X, ldle_obj.Atilde, ldle_obj.Psi_gamma0,\n",
    "                                      ldle_obj.Psi_i0, ldle_obj.zeta0)"
   ]
  },
  {
   "cell_type": "code",
   "execution_count": null,
   "metadata": {
    "scrolled": true
   },
   "outputs": [],
   "source": [
    "# After postprocessing\n",
    "vis.compare_local_high_low_distortion(ldle_obj.X, ldle_obj.Atilde, ldle_obj.Psi_gamma,\n",
    "                                      ldle_obj.Psi_i, ldle_obj.zeta)"
   ]
  },
  {
   "cell_type": "markdown",
   "metadata": {},
   "source": [
    "- This is an interactive plot. Double click on second subplot to choose threshold. Press any key to quit.\n",
    "# Compare high and low distortion intermediate neighbourhoods based on\n",
    "- angle between gradients of chosen eigenvectors for the local parameterizations\n",
    "- difference between the local scaling factors of the chosen eigenvectors"
   ]
  },
  {
   "cell_type": "code",
   "execution_count": null,
   "metadata": {},
   "outputs": [],
   "source": [
    "vis.compare_intermediate_high_low_distortion(ldle_obj.X, ldle_obj.Atilde, ldle_obj.Psitilde_gamma,\n",
    "                                               ldle_obj.Psitilde_i, ldle_obj.zetatilde, ldle_obj.c)"
   ]
  },
  {
   "cell_type": "markdown",
   "metadata": {},
   "source": [
    "# Visualize initial global embedding"
   ]
  },
  {
   "cell_type": "code",
   "execution_count": null,
   "metadata": {},
   "outputs": [],
   "source": [
    "vis.global_embedding(ldle_obj.y_init, labelsMat[:,0], 'summer', ldle_obj.color_of_pts_on_tear_init, 'jet', 'Initial')"
   ]
  },
  {
   "cell_type": "markdown",
   "metadata": {},
   "source": [
    "# Visualize final global embedding"
   ]
  },
  {
   "cell_type": "code",
   "execution_count": null,
   "metadata": {},
   "outputs": [],
   "source": [
    "vis.global_embedding(ldle_obj.y_final, labelsMat[:,0], 'summer', ldle_obj.color_of_pts_on_tear_final, 'Dark2', 'Final')"
   ]
  },
  {
   "cell_type": "code",
   "execution_count": null,
   "metadata": {},
   "outputs": [],
   "source": []
  }
 ],
 "metadata": {
  "kernelspec": {
   "display_name": "Python 3",
   "language": "python",
   "name": "python3"
  },
  "language_info": {
   "codemirror_mode": {
    "name": "ipython",
    "version": 3
   },
   "file_extension": ".py",
   "mimetype": "text/x-python",
   "name": "python",
   "nbconvert_exporter": "python",
   "pygments_lexer": "ipython3",
   "version": "3.9.2"
  }
 },
 "nbformat": 4,
 "nbformat_minor": 2
}
