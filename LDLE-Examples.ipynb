{
 "cells": [
  {
   "cell_type": "code",
   "execution_count": 2,
   "metadata": {},
   "outputs": [],
   "source": [
    "import visualize\n",
    "import datasets\n",
    "import ldle\n",
    "# Uncomment to reload a library\n",
    "from importlib import reload \n",
    "visualize = reload(visualize)\n",
    "ldle = reload(ldle)\n",
    "datasets = reload(datasets)\n",
    "%matplotlib qt"
   ]
  },
  {
   "cell_type": "code",
   "execution_count": 3,
   "metadata": {},
   "outputs": [],
   "source": [
    "save_dir_root = 'D:/pyLDLE/'"
   ]
  },
  {
   "cell_type": "code",
   "execution_count": 4,
   "metadata": {},
   "outputs": [],
   "source": [
    "def rectangle(use_geotorch = False):\n",
    "    X, labelsMat = datasets.Datasets().rectanglegrid()\n",
    "    ldle_obj = ldle.LDLE(X=X, eta_min=5, use_geotorch = use_geotorch,\n",
    "                         vis = visualize.Visualize(save_dir_root+'/rectangle'),\n",
    "                         vis_y_options = {'cmap0':'summer',\n",
    "                                          'cmap1':'jet',\n",
    "                                          'labels':labelsMat[:,0]})\n",
    "    return X, labelsMat, ldle_obj\n",
    "\n",
    "def barbell(use_geotorch = False):\n",
    "    X, labelsMat = datasets.Datasets().barbell()\n",
    "    ldle_obj = ldle.LDLE(X=X, eta_min=10, use_geotorch = use_geotorch,\n",
    "                         vis = visualize.Visualize(save_dir_root+'/barbell'),\n",
    "                         vis_y_options = {'cmap0':'summer',\n",
    "                                          'cmap1':'jet',\n",
    "                                          'labels':labelsMat[:,0]})\n",
    "    return X, labelsMat, ldle_obj\n",
    "\n",
    "def squarewithtwoholes(use_geotorch = False):\n",
    "    X, labelsMat = datasets.Datasets().squarewithtwoholes()\n",
    "    ldle_obj = ldle.LDLE(X=X, eta_min=10, use_geotorch = use_geotorch,\n",
    "                         vis = visualize.Visualize(save_dir_root+'/squarewithtwoholes'),\n",
    "                         vis_y_options = {'cmap0':'summer',\n",
    "                                          'cmap1':'jet',\n",
    "                                          'labels':labelsMat[:,0]})\n",
    "    return X, labelsMat, ldle_obj\n",
    "\n",
    "def spherewithhole(use_geotorch = False):\n",
    "    X, labelsMat = datasets.Datasets().spherewithhole()\n",
    "    ldle_obj = ldle.LDLE(X=X, eta_min=10, max_iter0=50, use_geotorch = use_geotorch,\n",
    "                         vis = visualize.Visualize(save_dir_root+'/spherewithhole'),\n",
    "                         vis_y_options = {'cmap0':'hsv',\n",
    "                                          'cmap1':'jet',\n",
    "                                          'labels':labelsMat[:,0]})\n",
    "    return X, labelsMat, ldle_obj\n",
    "\n",
    "def swissrollwithhole(use_geotorch = False):\n",
    "    X, labelsMat = datasets.Datasets().swissrollwithhole()\n",
    "    ldle_obj = ldle.LDLE(X=X, eta_min=10, max_iter0=80, use_geotorch = use_geotorch,\n",
    "                         vis = visualize.Visualize(save_dir_root+'/swissrollwithhole'),\n",
    "                         vis_y_options = {'cmap0':'summer',\n",
    "                                          'cmap1':'jet',\n",
    "                                          'labels':labelsMat[:,0]})\n",
    "    return X, labelsMat, ldle_obj\n",
    "\n",
    "def noisyswissroll(use_geotorch = False):\n",
    "    X, labelsMat = datasets.Datasets().noisyswissroll()\n",
    "    ldle_obj = ldle.LDLE(X=X, eta_min=17, use_geotorch = use_geotorch,\n",
    "                         vis = visualize.Visualize(save_dir_root+'/rectangle'),\n",
    "                         vis_y_options = {'cmap0':'summer',\n",
    "                                          'cmap1':'jet',\n",
    "                                          'labels':labelsMat[:,0]})\n",
    "    return X, labelsMat, ldle_obj\n",
    "\n",
    "def sphere(use_geotorch = False):\n",
    "    X, labelsMat = datasets.Datasets().sphere()\n",
    "    ldle_obj = ldle.LDLE(X=X, eta_min=8, max_iter0=80, use_geotorch = use_geotorch,\n",
    "                         vis = visualize.Visualize(save_dir_root+'/sphere'),\n",
    "                         vis_y_options = {'cmap0':'hsv',\n",
    "                                          'cmap1':'jet',\n",
    "                                          'labels':labelsMat[:,0]})\n",
    "    return X, labelsMat, ldle_obj\n",
    "    \n",
    "def flattorus4d(use_geotorch = False):\n",
    "    X, labelsMat = datasets.Datasets().flattorus4d()\n",
    "    ldle_obj = ldle.LDLE(X=X, eta_min=10, use_geotorch = use_geotorch,\n",
    "                         vis = visualize.Visualize(save_dir_root+'/flattorus4d'),\n",
    "                         vis_y_options = {'cmap0':'hsv',\n",
    "                                          'cmap1':'jet',\n",
    "                                          'labels':labelsMat[:,0]})\n",
    "    return X, labelsMat, ldle_obj\n",
    "\n",
    "def curvedtorus3d(use_geotorch = False):\n",
    "    X, labelsMat = datasets.Datasets().curvedtorus3d()\n",
    "    ldle_obj = ldle.LDLE(X=X, eta_min=10, max_iter0=50, use_geotorch = use_geotorch,\n",
    "                         vis = visualize.Visualize(save_dir_root+'/curvedtorus3d'),\n",
    "                         vis_y_options = {'cmap0':'summer',\n",
    "                                          'cmap1':'jet',\n",
    "                                          'labels':labelsMat[:,0]})\n",
    "    return X, labelsMat, ldle_obj\n",
    "\n",
    "def kleinbottle4d(use_geotorch = False):\n",
    "    X, labelsMat = datasets.Datasets().kleinbottle4d()\n",
    "    ldle_obj = ldle.LDLE(X=X, eta_min=20, max_iter0=40, use_geotorch = use_geotorch,\n",
    "                         vis = visualize.Visualize(save_dir_root+'/kleinbottle4d'),\n",
    "                         vis_y_options = {'cmap0':'hsv',\n",
    "                                          'cmap1':'jet',\n",
    "                                          'labels':labelsMat[:,0]})\n",
    "    return X, labelsMat, ldle_obj\n",
    "\n",
    "def mobiusstrip3d(use_geotorch = False):\n",
    "    X, labelsMat = datasets.Datasets().mobiusstrip3d()\n",
    "    ldle_obj = ldle.LDLE(X=X, eta_min=10, use_geotorch = use_geotorch,\n",
    "                         vis = visualize.Visualize(save_dir_root+'/mobiusstrip3d'),\n",
    "                         vis_y_options = {'cmap0':'hsv',\n",
    "                                          'cmap1':'jet',\n",
    "                                          'labels':labelsMat[:,0]})\n",
    "    return X, labelsMat, ldle_obj\n",
    "\n",
    "def solidcuboid3d(use_geotorch = False):\n",
    "    X, labelsMat = datasets.Datasets().solidcuboid3d()\n",
    "    ldle_obj = ldle.LDLE(X=X, eta_min=5, use_geotorch = use_geotorch, d = 3,\n",
    "                         vis = visualize.Visualize(save_dir_root+'/solidcuboid3d'),\n",
    "                         vis_y_options = {'cmap0':'summer',\n",
    "                                          'cmap1':'jet',\n",
    "                                          'labels':labelsMat[:,0]})\n",
    "    return X, labelsMat, ldle_obj\n",
    "\n",
    "def mnist(use_geotorch = False, digits=[0,1], n=4000):\n",
    "    X, labelsMat = datasets.Datasets().mnist(digits, n)\n",
    "    ldle_obj = ldle.LDLE(X=X, eta_min=3, use_geotorch = use_geotorch, k_tune=16, tau = 50, delta = 0.7,\n",
    "                         vis = visualize.Visualize(save_dir_root+'/mnist'),\n",
    "                         vis_y_options = {'cmap0':'summer',\n",
    "                                          'cmap1':'jet',\n",
    "                                          'labels':labelsMat[:,0]})\n",
    "    return X, labelsMat, ldle_obj"
   ]
  },
  {
   "cell_type": "markdown",
   "metadata": {},
   "source": [
    "# Run one of the above examples"
   ]
  },
  {
   "cell_type": "code",
   "execution_count": 5,
   "metadata": {
    "scrolled": false
   },
   "outputs": [
    {
     "name": "stdout",
     "output_type": "stream",
     "text": [
      "X.shape =  (9801, 3)\n"
     ]
    }
   ],
   "source": [
    "X, labelsMat, ldle_obj = solidcuboid3d(use_geotorch = False)"
   ]
  },
  {
   "cell_type": "code",
   "execution_count": 6,
   "metadata": {
    "scrolled": false
   },
   "outputs": [
    {
     "name": "stdout",
     "output_type": "stream",
     "text": [
      "A_k, Atilde_k: 0 points processed...\n",
      "A_k, Atilde_k: 2450 points processed...\n",
      "A_k, Atilde_k: 4900 points processed...\n",
      "A_k, Atilde_k: 7350 points processed...\n",
      "A_k, Atilde_k: 9800 points processed...\n",
      "Atilde_k, Atilde_k: all points processed...\n",
      "\n",
      "Constructing low distortion local views...\n",
      "Psi,zeta: 0 points processed...\n",
      "Psi,zeta: 2450 points processed...\n",
      "Psi,zeta: 4900 points processed...\n",
      "Psi,zeta: 7350 points processed...\n",
      "Psi,zeta: 9800 points processed...\n",
      "Psi,zeta: all 9801 points processed...\n",
      "After iter 1, max distortion is 7.070424\n",
      "After iter 2, max distortion is 6.405142\n",
      "After iter 3, max distortion is 6.405142\n",
      "After iter 4, max distortion is 5.312194\n",
      "After iter 5, max distortion is 5.261532\n",
      "After iter 6, max distortion is 5.080791\n",
      "After iter 7, max distortion is 5.080791\n",
      "After iter 8, max distortion is 5.080791\n",
      "After iter 9, max distortion is 5.080791\n",
      "After iter 10, max distortion is 5.080791\n",
      "After iter 11, max distortion is 5.080791\n",
      "After iter 12, max distortion is 5.080791\n",
      "After iter 13, max distortion is 5.080791\n",
      "After iter 14, max distortion is 5.080791\n",
      "After iter 15, max distortion is 5.080791\n",
      "After iter 16, max distortion is 5.080791\n",
      "\n",
      "Clustering to obtain low distortion intermediate views...\n",
      "#nodes in views with sz < 2 = 9801\n",
      "Remaining #nodes in views with sz < 2 = 0\n",
      "#nodes in views with sz < 3 = 808\n",
      "Remaining #nodes in views with sz < 3 = 0\n",
      "#nodes in views with sz < 4 = 912\n",
      "Remaining #nodes in views with sz < 4 = 0\n",
      "#nodes in views with sz < 5 = 948\n",
      "Remaining #nodes in views with sz < 5 = 0\n",
      "After clustering, max distortion is 7.279307\n",
      "\n",
      "Initializing parameters and computing initial global embedding...\n",
      "Ambiguous overlaps checked for 0 points\n",
      "Ambiguous overlaps checked for 281 points\n",
      "Ambiguous overlaps checked for 562 points\n",
      "Ambiguous overlaps checked for 843 points\n",
      "Ambiguous overlaps checked for 1124 points\n",
      "Seq of intermediate views and their predecessors computed.\n",
      "Initial alignment of 281 views completed\n",
      "Initial alignment of 562 views completed\n",
      "Initial alignment of 843 views completed\n",
      "error: 0.003999025495799011\n",
      "\n",
      "Refining parameters and computing final global embedding...\n",
      "Using GPA...\n",
      "Iteration: 0\n",
      "error: 0.002973545498639425\n",
      "Iteration: 1\n",
      "error: 0.002955292847244494\n",
      "Iteration: 2\n",
      "error: 0.002944569630864712\n",
      "Iteration: 3\n",
      "error: 0.0029365310951791966\n",
      "Iteration: 4\n",
      "error: 0.0029300485829211556\n",
      "Iteration: 5\n",
      "error: 0.0029247699756246364\n",
      "Iteration: 6\n",
      "error: 0.0029201659147540028\n",
      "Iteration: 7\n",
      "error: 0.002916261237917287\n",
      "Iteration: 8\n",
      "error: 0.002912908615882434\n",
      "Iteration: 9\n",
      "error: 0.002909957899488523\n",
      "Iteration: 10\n",
      "error: 0.002907387445824118\n",
      "Iteration: 11\n",
      "error: 0.0029050427246564404\n",
      "Iteration: 12\n",
      "error: 0.0029030297719001654\n",
      "Iteration: 13\n",
      "error: 0.0029012286552820344\n",
      "Iteration: 14\n",
      "error: 0.0028996134085967793\n",
      "Iteration: 15\n",
      "error: 0.0028981177091715027\n",
      "Iteration: 16\n",
      "error: 0.002896807948705928\n",
      "Iteration: 17\n",
      "error: 0.002895596157240085\n",
      "Iteration: 18\n",
      "error: 0.0028945022335116846\n",
      "Iteration: 19\n",
      "error: 0.0028935244584813004\n"
     ]
    }
   ],
   "source": [
    "ldle_obj.fit()"
   ]
  },
  {
   "cell_type": "markdown",
   "metadata": {},
   "source": [
    "# Visualizations"
   ]
  },
  {
   "cell_type": "code",
   "execution_count": null,
   "metadata": {},
   "outputs": [],
   "source": [
    "vis = visualize.Visualize(save_dir_root+'/tmp')"
   ]
  },
  {
   "cell_type": "markdown",
   "metadata": {},
   "source": [
    "# Dataset $\\{x_k\\}_{k=1}^{n}$"
   ]
  },
  {
   "cell_type": "code",
   "execution_count": null,
   "metadata": {},
   "outputs": [],
   "source": [
    "vis.data(X, labelsMat[:,0])"
   ]
  },
  {
   "cell_type": "markdown",
   "metadata": {},
   "source": [
    "# Eigenvalues $(\\lambda_i)_{i=1}^{N}$"
   ]
  },
  {
   "cell_type": "code",
   "execution_count": null,
   "metadata": {},
   "outputs": [],
   "source": [
    "vis.eigenvalues(ldle_obj.lmbda)"
   ]
  },
  {
   "cell_type": "markdown",
   "metadata": {},
   "source": [
    "# Visualize Eigenvectors $\\phi_{i}$ given $i$"
   ]
  },
  {
   "cell_type": "code",
   "execution_count": null,
   "metadata": {},
   "outputs": [],
   "source": [
    "vis.eigenvector(X, ldle_obj.phi, int(ldle_obj.N/2)) # total #eigenvectors = ldle.N"
   ]
  },
  {
   "cell_type": "markdown",
   "metadata": {},
   "source": [
    "# Distortion of Local Parameterizations $\\zeta_{kk}$"
   ]
  },
  {
   "cell_type": "code",
   "execution_count": null,
   "metadata": {},
   "outputs": [],
   "source": [
    "# Before postprocessing\n",
    "vis.distortion(X, ldle_obj.zeta0, 'zeta_0')"
   ]
  },
  {
   "cell_type": "code",
   "execution_count": null,
   "metadata": {},
   "outputs": [],
   "source": [
    "# After postprocessing\n",
    "vis.distortion(X, ldle_obj.zeta, 'zeta')"
   ]
  },
  {
   "cell_type": "markdown",
   "metadata": {},
   "source": [
    "- This is an interactive plot. Double click on first subplot to choose $x_k$. Press any key to quit.\n",
    "### Local views in the ambient and embedding space $U_k$ and $\\Psi_k(U_k)$ by choosing $x_k$\n",
    "### Chosen eigenvectors to construct the local parameterization $\\phi_{i_1}, \\ldots, \\phi_{i_d}$ where $i_s \\equiv i_s(k)$\n",
    "### Verify that chosen eigenvectors form orthonormal frame upto scale"
   ]
  },
  {
   "cell_type": "code",
   "execution_count": null,
   "metadata": {
    "scrolled": false
   },
   "outputs": [],
   "source": [
    "# Before postprocessing\n",
    "vis.local_views(ldle_obj.X, ldle_obj.phi, ldle_obj.U, ldle_obj.gamma, ldle_obj.Atilde,\n",
    "                  ldle_obj.Psi_gamma0, ldle_obj.Psi_i0, ldle_obj.zeta0, 'zeta_0')"
   ]
  },
  {
   "cell_type": "code",
   "execution_count": null,
   "metadata": {},
   "outputs": [],
   "source": [
    "# After postprocessing\n",
    "vis.local_views(ldle_obj.X, ldle_obj.phi, ldle_obj.U, ldle_obj.gamma, ldle_obj.Atilde,\n",
    "                  ldle_obj.Psi_gamma, ldle_obj.Psi_i, ldle_obj.zeta, 'zeta')"
   ]
  },
  {
   "cell_type": "markdown",
   "metadata": {},
   "source": [
    "# Chosen eigenvectors' indices' for local views $i_1, i_2, \\ldots, i_d$"
   ]
  },
  {
   "cell_type": "code",
   "execution_count": null,
   "metadata": {},
   "outputs": [],
   "source": [
    "vis.chosen_eigevec_inds_for_local_views(ldle_obj.X, ldle_obj.Psi_i)"
   ]
  },
  {
   "cell_type": "markdown",
   "metadata": {},
   "source": [
    "- This is an interactive plot. Double click on first subplot to choose $x_k$. Press any key to quit.\n",
    "### Intermediate views in the ambient and embedding space $\\widetilde{U}_m$ and $\\widetilde{\\Psi}_m(\\widetilde{U}_m)$ by choosing $x_k$ ($m = c_k$)\n",
    "### Chosen eigenvectors to construct the local parameterization $\\phi_{i_1}, \\ldots, \\phi_{i_d}$ where $i_s \\equiv i_s(m)$ and $m = c_k$\n",
    "### Verify that chosen eigenvectors form orthonormal frame upto scale"
   ]
  },
  {
   "cell_type": "code",
   "execution_count": null,
   "metadata": {},
   "outputs": [],
   "source": [
    "vis.intermediate_views(ldle_obj.X, ldle_obj.phi, ldle_obj.Utilde, ldle_obj.gamma, ldle_obj.Atilde,\n",
    "                         ldle_obj.Psitilde_gamma, ldle_obj.Psitilde_i, ldle_obj.zetatilde, ldle_obj.c)"
   ]
  },
  {
   "cell_type": "markdown",
   "metadata": {},
   "source": [
    "# Chosen eigenvectors' indices' for intermediate views $i_1, i_2, \\ldots, i_d$"
   ]
  },
  {
   "cell_type": "code",
   "execution_count": null,
   "metadata": {},
   "outputs": [],
   "source": [
    "vis.chosen_eigevec_inds_for_intermediate_views(ldle_obj.X, ldle_obj.Psitilde_i, ldle_obj.c)"
   ]
  },
  {
   "cell_type": "markdown",
   "metadata": {},
   "source": [
    "- This is an interactive plot. Double click on second subplot to choose threshold. Press any key to quit.\n",
    "# Compare high and low distortion local neighbourhoods based on\n",
    "- angle between gradients of chosen eigenvectors for the local parameterizations\n",
    "- difference between the local scaling factors of the chosen eigenvectors"
   ]
  },
  {
   "cell_type": "code",
   "execution_count": null,
   "metadata": {},
   "outputs": [],
   "source": [
    "# Before postprocessing\n",
    "vis.compare_local_high_low_distortion(ldle_obj.X, ldle_obj.Atilde, ldle_obj.Psi_gamma0,\n",
    "                                      ldle_obj.Psi_i0, ldle_obj.zeta0, 'zeta_0')"
   ]
  },
  {
   "cell_type": "code",
   "execution_count": null,
   "metadata": {
    "scrolled": true
   },
   "outputs": [],
   "source": [
    "# After postprocessing\n",
    "vis.compare_local_high_low_distortion(ldle_obj.X, ldle_obj.Atilde, ldle_obj.Psi_gamma,\n",
    "                                      ldle_obj.Psi_i, ldle_obj.zeta, 'zeta')"
   ]
  },
  {
   "cell_type": "markdown",
   "metadata": {},
   "source": [
    "- This is an interactive plot. Double click on second subplot to choose threshold. Press any key to quit.\n",
    "# Compare high and low distortion intermediate neighbourhoods based on\n",
    "- angle between gradients of chosen eigenvectors for the local parameterizations\n",
    "- difference between the local scaling factors of the chosen eigenvectors"
   ]
  },
  {
   "cell_type": "code",
   "execution_count": null,
   "metadata": {},
   "outputs": [],
   "source": [
    "vis.compare_intermediate_high_low_distortion(ldle_obj.X, ldle_obj.Atilde, ldle_obj.Psitilde_gamma,\n",
    "                                               ldle_obj.Psitilde_i, ldle_obj.zetatilde, ldle_obj.c)"
   ]
  },
  {
   "cell_type": "markdown",
   "metadata": {},
   "source": [
    "# Visualize initial global embedding"
   ]
  },
  {
   "cell_type": "code",
   "execution_count": null,
   "metadata": {},
   "outputs": [],
   "source": [
    "vis.global_embedding(ldle_obj.y_init, labelsMat[:,0], 'summer', ldle_obj.color_of_pts_on_tear_init, 'jet', 'Initial')"
   ]
  },
  {
   "cell_type": "markdown",
   "metadata": {},
   "source": [
    "# Visualize final global embedding"
   ]
  },
  {
   "cell_type": "code",
   "execution_count": null,
   "metadata": {},
   "outputs": [],
   "source": [
    "vis.global_embedding(ldle_obj.y_final, labelsMat[:,0], 'summer', ldle_obj.color_of_pts_on_tear_final, 'jet', 'Final')"
   ]
  },
  {
   "cell_type": "code",
   "execution_count": null,
   "metadata": {},
   "outputs": [],
   "source": []
  }
 ],
 "metadata": {
  "kernelspec": {
   "display_name": "Python 3",
   "language": "python",
   "name": "python3"
  },
  "language_info": {
   "codemirror_mode": {
    "name": "ipython",
    "version": 3
   },
   "file_extension": ".py",
   "mimetype": "text/x-python",
   "name": "python",
   "nbconvert_exporter": "python",
   "pygments_lexer": "ipython3",
   "version": "3.9.2"
  }
 },
 "nbformat": 4,
 "nbformat_minor": 2
}
