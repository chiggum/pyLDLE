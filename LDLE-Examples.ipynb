{
 "cells": [
  {
   "cell_type": "code",
   "execution_count": null,
   "metadata": {},
   "outputs": [],
   "source": [
    "import visualize\n",
    "import datasets\n",
    "import ldle\n",
    "# Uncomment to reload a library\n",
    "from importlib import reload \n",
    "visualize = reload(visualize)\n",
    "ldle = reload(ldle)\n",
    "datasets = reload(datasets)\n",
    "%matplotlib qt"
   ]
  },
  {
   "cell_type": "code",
   "execution_count": null,
   "metadata": {},
   "outputs": [],
   "source": [
    "save_dir_root = 'D:/pyLDLE/'"
   ]
  },
  {
   "cell_type": "code",
   "execution_count": null,
   "metadata": {},
   "outputs": [],
   "source": [
    "def square(use_geotorch = False):\n",
    "    X, labelsMat = datasets.Datasets().rectanglegrid(ar=1)\n",
    "    ldle_obj = ldle.LDLE(X=X, eta_min=5, max_iter0=10, use_geotorch = use_geotorch,\n",
    "                         vis = visualize.Visualize(save_dir_root+'/square'),\n",
    "                         vis_y_options = {'cmap0':'summer',\n",
    "                                          'cmap1':'jet',\n",
    "                                          'labels':labelsMat[:,0]})\n",
    "    return X, labelsMat, ldle_obj\n",
    "\n",
    "\n",
    "def rectangle(use_geotorch = False):\n",
    "    X, labelsMat = datasets.Datasets().rectanglegrid()\n",
    "    ldle_obj = ldle.LDLE(X=X, eta_min=5, use_geotorch = use_geotorch,\n",
    "                         vis = visualize.Visualize(save_dir_root+'/rectangle'),\n",
    "                         vis_y_options = {'cmap0':'summer',\n",
    "                                          'cmap1':'jet',\n",
    "                                          'labels':labelsMat[:,0]})\n",
    "    return X, labelsMat, ldle_obj\n",
    "\n",
    "def barbell(use_geotorch = False):\n",
    "    X, labelsMat = datasets.Datasets().barbell()\n",
    "    ldle_obj = ldle.LDLE(X=X, eta_min=10, use_geotorch = use_geotorch,\n",
    "                         vis = visualize.Visualize(save_dir_root+'/barbell'),\n",
    "                         vis_y_options = {'cmap0':'summer',\n",
    "                                          'cmap1':'jet',\n",
    "                                          'labels':labelsMat[:,0]})\n",
    "    return X, labelsMat, ldle_obj\n",
    "\n",
    "def squarewithtwoholes(use_geotorch = False):\n",
    "    X, labelsMat = datasets.Datasets().squarewithtwoholes()\n",
    "    ldle_obj = ldle.LDLE(X=X, eta_min=10, use_geotorch = use_geotorch,\n",
    "                         vis = visualize.Visualize(save_dir_root+'/squarewithtwoholes'),\n",
    "                         vis_y_options = {'cmap0':'summer',\n",
    "                                          'cmap1':'jet',\n",
    "                                          'labels':labelsMat[:,0]})\n",
    "    return X, labelsMat, ldle_obj\n",
    "\n",
    "def spherewithhole(use_geotorch = False):\n",
    "    X, labelsMat = datasets.Datasets().spherewithhole()\n",
    "    ldle_obj = ldle.LDLE(X=X, eta_min=10, max_iter0=50, use_geotorch = use_geotorch,\n",
    "                         vis = visualize.Visualize(save_dir_root+'/spherewithhole'),\n",
    "                         vis_y_options = {'cmap0':'hsv',\n",
    "                                          'cmap1':'jet',\n",
    "                                          'labels':labelsMat[:,0]})\n",
    "    return X, labelsMat, ldle_obj\n",
    "\n",
    "def swissrollwithhole(use_geotorch = False):\n",
    "    X, labelsMat = datasets.Datasets().swissrollwithhole()\n",
    "    ldle_obj = ldle.LDLE(X=X, eta_min=10, max_iter0=80, use_geotorch = use_geotorch,\n",
    "                         vis = visualize.Visualize(save_dir_root+'/swissrollwithhole'),\n",
    "                         vis_y_options = {'cmap0':'summer',\n",
    "                                          'cmap1':'jet',\n",
    "                                          'labels':labelsMat[:,0]})\n",
    "    return X, labelsMat, ldle_obj\n",
    "\n",
    "def noisyswissroll(use_geotorch = False):\n",
    "    X, labelsMat = datasets.Datasets().noisyswissroll()\n",
    "    ldle_obj = ldle.LDLE(X=X, eta_min=17, use_geotorch = use_geotorch,\n",
    "                         vis = visualize.Visualize(save_dir_root+'/rectangle'),\n",
    "                         vis_y_options = {'cmap0':'summer',\n",
    "                                          'cmap1':'jet',\n",
    "                                          'labels':labelsMat[:,0]})\n",
    "    return X, labelsMat, ldle_obj\n",
    "\n",
    "def sphere(use_geotorch = False):\n",
    "    X, labelsMat = datasets.Datasets().sphere()\n",
    "    ldle_obj = ldle.LDLE(X=X, eta_min=8, max_iter0=80, use_geotorch = use_geotorch,\n",
    "                         vis = visualize.Visualize(save_dir_root+'/sphere'),\n",
    "                         vis_y_options = {'cmap0':'hsv',\n",
    "                                          'cmap1':'jet',\n",
    "                                          'labels':labelsMat[:,0]})\n",
    "    return X, labelsMat, ldle_obj\n",
    "    \n",
    "def flattorus4d(use_geotorch = False):\n",
    "    X, labelsMat = datasets.Datasets().flattorus4d()\n",
    "    ldle_obj = ldle.LDLE(X=X, eta_min=10, use_geotorch = use_geotorch,\n",
    "                         vis = visualize.Visualize(save_dir_root+'/flattorus4d'),\n",
    "                         vis_y_options = {'cmap0':'hsv',\n",
    "                                          'cmap1':'jet',\n",
    "                                          'labels':labelsMat[:,0]})\n",
    "    return X, labelsMat, ldle_obj\n",
    "\n",
    "def curvedtorus3d(use_geotorch = False):\n",
    "    X, labelsMat = datasets.Datasets().curvedtorus3d()\n",
    "    ldle_obj = ldle.LDLE(X=X, eta_min=8, max_iter0=50, use_geotorch = use_geotorch,\n",
    "                         vis = visualize.Visualize(save_dir_root+'/curvedtorus3d'),\n",
    "                         vis_y_options = {'cmap0':'summer',\n",
    "                                          'cmap1':'jet',\n",
    "                                          'labels':labelsMat[:,0]})\n",
    "    return X, labelsMat, ldle_obj\n",
    "\n",
    "def kleinbottle4d(use_geotorch = False):\n",
    "    X, labelsMat = datasets.Datasets().kleinbottle4d()\n",
    "    ldle_obj = ldle.LDLE(X=X, eta_min=20, max_iter0=40, use_geotorch = use_geotorch,\n",
    "                         vis = visualize.Visualize(save_dir_root+'/kleinbottle4d'),\n",
    "                         vis_y_options = {'cmap0':'hsv',\n",
    "                                          'cmap1':'jet',\n",
    "                                          'labels':labelsMat[:,0]})\n",
    "    return X, labelsMat, ldle_obj\n",
    "\n",
    "def mobiusstrip3d(use_geotorch = False):\n",
    "    X, labelsMat = datasets.Datasets().mobiusstrip3d()\n",
    "    ldle_obj = ldle.LDLE(X=X, eta_min=10, use_geotorch = use_geotorch,\n",
    "                         vis = visualize.Visualize(save_dir_root+'/mobiusstrip3d'),\n",
    "                         vis_y_options = {'cmap0':'hsv',\n",
    "                                          'cmap1':'jet',\n",
    "                                          'labels':labelsMat[:,0]})\n",
    "    return X, labelsMat, ldle_obj\n",
    "\n",
    "def solidcuboid3d(use_geotorch = False):\n",
    "    X, labelsMat = datasets.Datasets().solidcuboid3d()\n",
    "    ldle_obj = ldle.LDLE(X=X, eta_min=5, use_geotorch = use_geotorch, d = 3,\n",
    "                         vis = visualize.Visualize(save_dir_root+'/solidcuboid3d'),\n",
    "                         vis_y_options = {'cmap0':'summer',\n",
    "                                          'cmap1':'jet',\n",
    "                                          'labels':labelsMat[:,0]})\n",
    "    return X, labelsMat, ldle_obj\n",
    "\n",
    "def mnist(use_geotorch = False, digits=[0,1], n=4000):\n",
    "    X, labelsMat = datasets.Datasets().mnist(digits, n)\n",
    "    ldle_obj = ldle.LDLE(X=X, eta_min=3, use_geotorch = use_geotorch, k_tune=16, tau = 50, delta = 0.7,\n",
    "                         vis = visualize.Visualize(save_dir_root+'/mnist'),\n",
    "                         vis_y_options = {'cmap0':'summer',\n",
    "                                          'cmap1':'jet',\n",
    "                                          'labels':labelsMat[:,0]})\n",
    "    return X, labelsMat, ldle_obj\n",
    "\n",
    "def face_data(use_geotorch = False):\n",
    "#     X, labelsMat = datasets.Datasets().face_data()\n",
    "#     ldle_obj = ldle.LDLE(X=X, eta_min=1, to_tear=False, use_LLR=True,\n",
    "#                          local_algo='LDLE',\n",
    "#                          vis = visualize.Visualize(save_dir_root+'/face_data'),\n",
    "#                          vis_y_options = {'cmap0':'jet',\n",
    "#                                           'cmap1':'jet',\n",
    "#                                           'labels':labelsMat[:,1]})\n",
    "    ldle_obj = ldle.LDLE(X=X, eta_min=1, to_tear=False, use_LLR=False, N=100, tau = 50, delta=0.5,\n",
    "                         use_geotorch = use_geotorch, d = 2, k = 13, local_algo='LDLE', max_iter0=5,\n",
    "                         vis = visualize.Visualize(save_dir_root+'/face_data'),\n",
    "                         vis_y_options = {'cmap0':'jet',\n",
    "                                          'cmap1':'jet',\n",
    "                                          'labels':labelsMat[:,1]})\n",
    "    return X, labelsMat, ldle_obj"
   ]
  },
  {
   "cell_type": "markdown",
   "metadata": {},
   "source": [
    "# Run one of the above examples"
   ]
  },
  {
   "cell_type": "code",
   "execution_count": null,
   "metadata": {
    "scrolled": false
   },
   "outputs": [],
   "source": [
    "X, labelsMat, ldle_obj = sphere(use_geotorch = False)"
   ]
  },
  {
   "cell_type": "code",
   "execution_count": null,
   "metadata": {
    "scrolled": false
   },
   "outputs": [],
   "source": [
    "ldle_obj.fit()"
   ]
  },
  {
   "cell_type": "code",
   "execution_count": null,
   "metadata": {},
   "outputs": [],
   "source": [
    "ldle_obj.y_final, ldle_obj.color_of_pts_on_tear_final = ldle_obj.compute_final_global_embedding(5,10,False)"
   ]
  },
  {
   "cell_type": "code",
   "execution_count": null,
   "metadata": {},
   "outputs": [],
   "source": [
    "ldle_obj.y_final_ltsa = ldle_obj.compute_final_global_embedding_ltsap_based()"
   ]
  },
  {
   "cell_type": "markdown",
   "metadata": {},
   "source": [
    "# Visualizations"
   ]
  },
  {
   "cell_type": "markdown",
   "metadata": {},
   "source": [
    "# Dataset $\\{x_k\\}_{k=1}^{n}$"
   ]
  },
  {
   "cell_type": "code",
   "execution_count": null,
   "metadata": {},
   "outputs": [],
   "source": [
    "ldle_obj.vis.data(X, labelsMat[:,0])"
   ]
  },
  {
   "cell_type": "markdown",
   "metadata": {},
   "source": [
    "# LDLE Visualizations"
   ]
  },
  {
   "cell_type": "markdown",
   "metadata": {},
   "source": [
    "# Eigenvalues $(\\lambda_i)_{i=1}^{N}$"
   ]
  },
  {
   "cell_type": "code",
   "execution_count": null,
   "metadata": {},
   "outputs": [],
   "source": [
    "ldle_obj.vis.eigenvalues(ldle_obj.lmbda)"
   ]
  },
  {
   "cell_type": "markdown",
   "metadata": {},
   "source": [
    "# Visualize Eigenvectors $\\phi_{i}$ given $i$"
   ]
  },
  {
   "cell_type": "code",
   "execution_count": null,
   "metadata": {},
   "outputs": [],
   "source": [
    "ldle_obj.vis.eigenvector(X, ldle_obj.phi, int(ldle_obj.N/2)) # total #eigenvectors = ldle.N"
   ]
  },
  {
   "cell_type": "markdown",
   "metadata": {},
   "source": [
    "# Visualize $\\nabla\\phi_i$ given $i$"
   ]
  },
  {
   "cell_type": "code",
   "execution_count": null,
   "metadata": {},
   "outputs": [],
   "source": [
    "ldle_obj.vis.grad_phi(X, ldle_obj.phi, ldle_obj.grad_phi, 50)"
   ]
  },
  {
   "cell_type": "markdown",
   "metadata": {},
   "source": [
    "# $\\widetilde{A}_{kij}$ given $i$ and $j$"
   ]
  },
  {
   "cell_type": "code",
   "execution_count": null,
   "metadata": {},
   "outputs": [],
   "source": [
    "ldle_obj.vis.Atilde(X, ldle_obj.phi, 0, 1, ldle_obj.Atilde)"
   ]
  },
  {
   "cell_type": "markdown",
   "metadata": {},
   "source": [
    "# Distortion of Local Parameterizations $\\zeta_{kk}$"
   ]
  },
  {
   "cell_type": "code",
   "execution_count": null,
   "metadata": {},
   "outputs": [],
   "source": [
    "# Before postprocessing\n",
    "ldle_obj.vis.distortion(X, ldle_obj.zeta0, 'zeta_0')"
   ]
  },
  {
   "cell_type": "code",
   "execution_count": null,
   "metadata": {},
   "outputs": [],
   "source": [
    "# After postprocessing\n",
    "ldle_obj.vis.distortion(X, ldle_obj.zeta, 'zeta')"
   ]
  },
  {
   "cell_type": "markdown",
   "metadata": {},
   "source": [
    "- This is an interactive plot. Double click on first subplot to choose $x_k$. Press any key to quit.\n",
    "### Local views in the ambient and embedding space $U_k$ and $\\Psi_k(U_k)$ by choosing $x_k$\n",
    "### Chosen eigenvectors to construct the local parameterization $\\phi_{i_1}, \\ldots, \\phi_{i_d}$ where $i_s \\equiv i_s(k)$\n",
    "### Verify that chosen eigenvectors form orthonormal frame upto scale"
   ]
  },
  {
   "cell_type": "code",
   "execution_count": null,
   "metadata": {
    "scrolled": false
   },
   "outputs": [],
   "source": [
    "# Before postprocessing\n",
    "ldle_obj.vis.local_views(ldle_obj.X, ldle_obj.phi, ldle_obj.U, ldle_obj.gamma, ldle_obj.Atilde,\n",
    "                          ldle_obj.Psi_gamma0, ldle_obj.Psi_i0, ldle_obj.zeta0, 'zeta_0')"
   ]
  },
  {
   "cell_type": "code",
   "execution_count": null,
   "metadata": {},
   "outputs": [],
   "source": [
    "# After postprocessing\n",
    "ldle_obj.vis.local_views(ldle_obj.X, ldle_obj.phi, ldle_obj.U, ldle_obj.gamma, ldle_obj.Atilde,\n",
    "                          ldle_obj.Psi_gamma, ldle_obj.Psi_i, ldle_obj.zeta, 'zeta')"
   ]
  },
  {
   "cell_type": "markdown",
   "metadata": {},
   "source": [
    "# Chosen eigenvectors' indices' for local views $i_1, i_2, \\ldots, i_d$"
   ]
  },
  {
   "cell_type": "code",
   "execution_count": null,
   "metadata": {},
   "outputs": [],
   "source": [
    "ldle_obj.vis.chosen_eigevec_inds_for_local_views(ldle_obj.X, ldle_obj.Psi_i)"
   ]
  },
  {
   "cell_type": "markdown",
   "metadata": {},
   "source": [
    "- This is an interactive plot. Double click on first subplot to choose $x_k$. Press any key to quit.\n",
    "### Intermediate views in the ambient and embedding space $\\widetilde{U}_m$ and $\\widetilde{\\Psi}_m(\\widetilde{U}_m)$ by choosing $x_k$ ($m = c_k$)\n",
    "### Chosen eigenvectors to construct the local parameterization $\\phi_{i_1}, \\ldots, \\phi_{i_d}$ where $i_s \\equiv i_s(m)$ and $m = c_k$\n",
    "### Verify that chosen eigenvectors form orthonormal frame upto scale"
   ]
  },
  {
   "cell_type": "code",
   "execution_count": null,
   "metadata": {},
   "outputs": [],
   "source": [
    "ldle_obj.vis.intermediate_views(ldle_obj.X, ldle_obj.phi, ldle_obj.Utilde, ldle_obj.gamma, ldle_obj.Atilde,\n",
    "                                 ldle_obj.Psitilde_gamma, ldle_obj.Psitilde_i, ldle_obj.zetatilde, ldle_obj.c)"
   ]
  },
  {
   "cell_type": "markdown",
   "metadata": {},
   "source": [
    "# Chosen eigenvectors' indices' for intermediate views $i_1, i_2, \\ldots, i_d$"
   ]
  },
  {
   "cell_type": "code",
   "execution_count": null,
   "metadata": {},
   "outputs": [],
   "source": [
    "ldle_obj.vis.chosen_eigevec_inds_for_intermediate_views(ldle_obj.X, ldle_obj.Psitilde_i, ldle_obj.c)"
   ]
  },
  {
   "cell_type": "markdown",
   "metadata": {},
   "source": [
    "- This is an interactive plot. Double click on second subplot to choose threshold. Press any key to quit.\n",
    "# Compare high and low distortion local neighbourhoods based on\n",
    "- angle between gradients of chosen eigenvectors for the local parameterizations\n",
    "- difference between the local scaling factors of the chosen eigenvectors"
   ]
  },
  {
   "cell_type": "code",
   "execution_count": null,
   "metadata": {},
   "outputs": [],
   "source": [
    "# Before postprocessing\n",
    "ldle_obj.vis.compare_local_high_low_distortion(ldle_obj.X, ldle_obj.Atilde, ldle_obj.Psi_gamma0,\n",
    "                                              ldle_obj.Psi_i0, ldle_obj.zeta0, 'zeta_0')"
   ]
  },
  {
   "cell_type": "code",
   "execution_count": null,
   "metadata": {
    "scrolled": true
   },
   "outputs": [],
   "source": [
    "# After postprocessing\n",
    "ldle_obj.vis.compare_local_high_low_distortion(ldle_obj.X, ldle_obj.Atilde, ldle_obj.Psi_gamma,\n",
    "                                              ldle_obj.Psi_i, ldle_obj.zeta, 'zeta')"
   ]
  },
  {
   "cell_type": "markdown",
   "metadata": {},
   "source": [
    "- This is an interactive plot. Double click on second subplot to choose threshold. Press any key to quit.\n",
    "# Compare high and low distortion intermediate neighbourhoods based on\n",
    "- angle between gradients of chosen eigenvectors for the local parameterizations\n",
    "- difference between the local scaling factors of the chosen eigenvectors"
   ]
  },
  {
   "cell_type": "code",
   "execution_count": null,
   "metadata": {},
   "outputs": [],
   "source": [
    "ldle_obj.vis.compare_intermediate_high_low_distortion(ldle_obj.X, ldle_obj.Atilde, ldle_obj.Psitilde_gamma,\n",
    "                                                       ldle_obj.Psitilde_i, ldle_obj.zetatilde, ldle_obj.c)"
   ]
  },
  {
   "cell_type": "markdown",
   "metadata": {},
   "source": [
    "# Visualize initial global embedding"
   ]
  },
  {
   "cell_type": "code",
   "execution_count": null,
   "metadata": {},
   "outputs": [],
   "source": [
    "ldle_obj.vis.global_embedding(ldle_obj.y_init, labelsMat[:,1], 'jet', ldle_obj.color_of_pts_on_tear_init, 'jet', 'Initial')"
   ]
  },
  {
   "cell_type": "markdown",
   "metadata": {},
   "source": [
    "# Visualize final global embedding GPA based"
   ]
  },
  {
   "cell_type": "code",
   "execution_count": null,
   "metadata": {},
   "outputs": [],
   "source": [
    "ldle_obj.vis.global_embedding(ldle_obj.y_final, labelsMat[:,1], 'jet', ldle_obj.color_of_pts_on_tear_final, 'jet', 'Final')"
   ]
  },
  {
   "cell_type": "markdown",
   "metadata": {},
   "source": [
    "# Visualize global embedding with images"
   ]
  },
  {
   "cell_type": "code",
   "execution_count": null,
   "metadata": {},
   "outputs": [],
   "source": [
    "vis.global_embedding_images(X, (64,64), ldle_obj.y_final, labelsMat[:,1], 'jet', title= 'Final', zoom=0.5)"
   ]
  },
  {
   "cell_type": "markdown",
   "metadata": {},
   "source": [
    "# LTSA Visualizations"
   ]
  },
  {
   "cell_type": "code",
   "execution_count": null,
   "metadata": {},
   "outputs": [],
   "source": [
    "vis.global_embedding(ldle_obj.y_final_ltsa, labelsMat[:,1], 'jet', title= 'Final')"
   ]
  },
  {
   "cell_type": "code",
   "execution_count": null,
   "metadata": {},
   "outputs": [],
   "source": [
    "vis.global_embedding_images(X, (64,64), ldle_obj.y_final_ltsa[:,1:], labelsMat[:,1], 'jet', title= 'Final', zoom=0.5)"
   ]
  },
  {
   "cell_type": "code",
   "execution_count": null,
   "metadata": {},
   "outputs": [],
   "source": []
  }
 ],
 "metadata": {
  "kernelspec": {
   "display_name": "Python 3",
   "language": "python",
   "name": "python3"
  },
  "language_info": {
   "codemirror_mode": {
    "name": "ipython",
    "version": 3
   },
   "file_extension": ".py",
   "mimetype": "text/x-python",
   "name": "python",
   "nbconvert_exporter": "python",
   "pygments_lexer": "ipython3",
   "version": "3.9.2"
  }
 },
 "nbformat": 4,
 "nbformat_minor": 2
}
