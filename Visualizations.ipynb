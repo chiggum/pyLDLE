{
 "cells": [
  {
   "cell_type": "code",
   "execution_count": 1,
   "id": "47d8a00b",
   "metadata": {},
   "outputs": [],
   "source": [
    "import pickle\n",
    "save_dir_root = 'D:/pyLDLE/'\n",
    "example = 'rectangle'\n",
    "fpath = save_dir_root+'/'+example+'.dat'\n",
    "with open(fpath, \"rb\") as f:\n",
    "    X, labelsMat, ldle_obj = pickle.load(f)"
   ]
  },
  {
   "cell_type": "code",
   "execution_count": 3,
   "id": "5c2b73d5",
   "metadata": {},
   "outputs": [],
   "source": [
    "import visualize\n",
    "from importlib import reload \n",
    "visualize = reload(visualize)\n",
    "# update visualizer\n",
    "ldle_obj.vis = visualize.Visualize(ldle_obj.vis.save_dir)\n",
    "%matplotlib qt"
   ]
  },
  {
   "cell_type": "markdown",
   "id": "33942d5d",
   "metadata": {},
   "source": [
    "# Visualizations"
   ]
  },
  {
   "cell_type": "markdown",
   "id": "4e486cde",
   "metadata": {},
   "source": [
    "# Dataset $\\{x_k\\}_{k=1}^{n}$"
   ]
  },
  {
   "cell_type": "code",
   "execution_count": null,
   "id": "79c27d54",
   "metadata": {},
   "outputs": [],
   "source": [
    "ldle_obj.vis.data(X, labelsMat[:,0])"
   ]
  },
  {
   "cell_type": "markdown",
   "id": "ccd8a8f6",
   "metadata": {},
   "source": [
    "# LDLE Visualizations"
   ]
  },
  {
   "cell_type": "markdown",
   "id": "ce5bd9d8",
   "metadata": {},
   "source": [
    "# Eigenvalues $(\\lambda_i)_{i=1}^{N}$"
   ]
  },
  {
   "cell_type": "code",
   "execution_count": null,
   "id": "b1097a09",
   "metadata": {},
   "outputs": [],
   "source": [
    "ldle_obj.vis.eigenvalues(ldle_obj.lmbda)"
   ]
  },
  {
   "cell_type": "markdown",
   "id": "8b7e10a4",
   "metadata": {},
   "source": [
    "# Visualize Eigenvectors $\\phi_{i}$ given $i$"
   ]
  },
  {
   "cell_type": "code",
   "execution_count": null,
   "id": "dc1eafaf",
   "metadata": {},
   "outputs": [],
   "source": [
    "n_eigvevs = 10\n",
    "for k in range(n_eigvevs):\n",
    "    ldle_obj.vis.eigenvector(X, ldle_obj.phi, int(k*ldle_obj.N/n_eigvevs))"
   ]
  },
  {
   "cell_type": "markdown",
   "id": "8367cf14",
   "metadata": {},
   "source": [
    "# Visualize gamma $\\gamma_i$ given $i$"
   ]
  },
  {
   "cell_type": "code",
   "execution_count": null,
   "id": "46bbcf8e",
   "metadata": {},
   "outputs": [],
   "source": [
    "n_eigvevs = 10\n",
    "for k in range(n_eigvevs):\n",
    "    ldle_obj.vis.gamma(X, ldle_obj.gamma, int(k*ldle_obj.N/n_eigvevs))"
   ]
  },
  {
   "cell_type": "markdown",
   "id": "a6977af3",
   "metadata": {},
   "source": [
    "# Visualize #eigenvectors with small gradients at each point - possibly identifies boundary"
   ]
  },
  {
   "cell_type": "code",
   "execution_count": null,
   "id": "b7ae604d",
   "metadata": {},
   "outputs": [],
   "source": [
    "ldle_obj.vis.n_eigvecs_w_grad_lt(ldle_obj.X, ldle_obj.Atilde)"
   ]
  },
  {
   "cell_type": "code",
   "execution_count": null,
   "id": "e6d2506a",
   "metadata": {},
   "outputs": [],
   "source": [
    "ldle_obj.vis.n_eigvecs_w_grad_lt(ldle_obj.y_final, ldle_obj.Atilde)"
   ]
  },
  {
   "cell_type": "markdown",
   "id": "f3ad9133",
   "metadata": {},
   "source": [
    "# Distortion of Local Parameterizations $\\zeta_{kk}$"
   ]
  },
  {
   "cell_type": "code",
   "execution_count": null,
   "id": "1d4589fc",
   "metadata": {},
   "outputs": [],
   "source": [
    "# Before postprocessing\n",
    "ldle_obj.vis.distortion(X, ldle_obj.zeta0, 'zeta_0')"
   ]
  },
  {
   "cell_type": "code",
   "execution_count": null,
   "id": "ad2ae009",
   "metadata": {},
   "outputs": [],
   "source": [
    "# After postprocessing\n",
    "ldle_obj.vis.distortion(X, ldle_obj.zeta, 'zeta')"
   ]
  },
  {
   "cell_type": "markdown",
   "id": "1057ff18",
   "metadata": {},
   "source": [
    "### Local views in the ambient and embedding space $U_k$ and $\\Psi_k(U_k)$ by choosing $x_k$\n",
    "### Chosen eigenvectors to construct the local parameterization $\\phi_{i_1}, \\ldots, \\phi_{i_d}$ where $i_s \\equiv i_s(k)$\n",
    "### Verify that chosen eigenvectors form orthonormal frame upto scale"
   ]
  },
  {
   "cell_type": "code",
   "execution_count": null,
   "id": "2fbec15f",
   "metadata": {
    "scrolled": false
   },
   "outputs": [],
   "source": [
    "# Before postprocessing\n",
    "ldle_obj.vis.local_views(ldle_obj.X, ldle_obj.phi, ldle_obj.U, ldle_obj.gamma, ldle_obj.Atilde,\n",
    "                          ldle_obj.Psi_gamma0, ldle_obj.Psi_i0, ldle_obj.zeta0, 'zeta_0')"
   ]
  },
  {
   "cell_type": "code",
   "execution_count": null,
   "id": "ad0f5697",
   "metadata": {},
   "outputs": [],
   "source": [
    "# After postprocessing\n",
    "ldle_obj.vis.local_views(ldle_obj.X, ldle_obj.phi, ldle_obj.U, ldle_obj.gamma, ldle_obj.Atilde,\n",
    "                          ldle_obj.local_param.Psi_gamma, ldle_obj.local_param.Psi_i, ldle_obj.local_param.zeta, 'zeta')"
   ]
  },
  {
   "cell_type": "markdown",
   "id": "ed12a23e",
   "metadata": {},
   "source": [
    "# Chosen eigenvectors' indices' for local views $i_1, i_2, \\ldots, i_d$"
   ]
  },
  {
   "cell_type": "code",
   "execution_count": null,
   "id": "4728f49d",
   "metadata": {},
   "outputs": [],
   "source": [
    "ldle_obj.vis.chosen_eigevec_inds_for_local_views(ldle_obj.X, ldle_obj.Psi_i)"
   ]
  },
  {
   "cell_type": "markdown",
   "id": "fd643b89",
   "metadata": {},
   "source": [
    "- This is an interactive plot. Double click on first subplot to choose $x_k$. Press any key to quit.\n",
    "### Intermediate views in the ambient and embedding space $\\widetilde{U}_m$ and $\\widetilde{\\Psi}_m(\\widetilde{U}_m)$ by choosing $x_k$ ($m = c_k$)\n",
    "### Chosen eigenvectors to construct the local parameterization $\\phi_{i_1}, \\ldots, \\phi_{i_d}$ where $i_s \\equiv i_s(m)$ and $m = c_k$\n",
    "### Verify that chosen eigenvectors form orthonormal frame upto scale"
   ]
  },
  {
   "cell_type": "code",
   "execution_count": null,
   "id": "0647232e",
   "metadata": {},
   "outputs": [],
   "source": [
    "ldle_obj.vis.intermediate_views(ldle_obj.X, ldle_obj.phi, ldle_obj.Utilde, ldle_obj.gamma, ldle_obj.Atilde,\n",
    "                                 ldle_obj.Psitilde_gamma, ldle_obj.Psitilde_i, ldle_obj.zetatilde, ldle_obj.c)"
   ]
  },
  {
   "cell_type": "markdown",
   "id": "f8b69166",
   "metadata": {},
   "source": [
    "# Chosen eigenvectors' indices' for intermediate views $i_1, i_2, \\ldots, i_d$"
   ]
  },
  {
   "cell_type": "code",
   "execution_count": null,
   "id": "e0d8a94d",
   "metadata": {},
   "outputs": [],
   "source": [
    "ldle_obj.vis.chosen_eigevec_inds_for_intermediate_views(ldle_obj.X, ldle_obj.Psitilde_i, ldle_obj.c)"
   ]
  },
  {
   "cell_type": "markdown",
   "id": "ec8beb34",
   "metadata": {},
   "source": [
    "- This is an interactive plot. Double click on second subplot to choose threshold. Press any key to quit.\n",
    "# Compare high and low distortion local neighbourhoods based on\n",
    "- angle between gradients of chosen eigenvectors for the local parameterizations\n",
    "- difference between the local scaling factors of the chosen eigenvectors"
   ]
  },
  {
   "cell_type": "code",
   "execution_count": null,
   "id": "e922550e",
   "metadata": {},
   "outputs": [],
   "source": [
    "# Before postprocessing\n",
    "ldle_obj.vis.compare_local_high_low_distortion(ldle_obj.X, ldle_obj.Atilde, ldle_obj.Psi_gamma0,\n",
    "                                              ldle_obj.Psi_i0, ldle_obj.zeta0, 'zeta_0')"
   ]
  },
  {
   "cell_type": "code",
   "execution_count": null,
   "id": "40a8a775",
   "metadata": {
    "scrolled": true
   },
   "outputs": [],
   "source": [
    "# After postprocessing\n",
    "ldle_obj.vis.compare_local_high_low_distortion(ldle_obj.X, ldle_obj.Atilde, ldle_obj.Psi_gamma,\n",
    "                                              ldle_obj.Psi_i, ldle_obj.zeta, 'zeta')"
   ]
  },
  {
   "cell_type": "markdown",
   "id": "c6f0ba35",
   "metadata": {},
   "source": [
    "- This is an interactive plot. Double click on second subplot to choose threshold. Press any key to quit.\n",
    "# Compare high and low distortion intermediate neighbourhoods based on\n",
    "- angle between gradients of chosen eigenvectors for the local parameterizations\n",
    "- difference between the local scaling factors of the chosen eigenvectors"
   ]
  },
  {
   "cell_type": "code",
   "execution_count": null,
   "id": "75437c1b",
   "metadata": {},
   "outputs": [],
   "source": [
    "ldle_obj.vis.compare_intermediate_high_low_distortion(ldle_obj.X, ldle_obj.Atilde, ldle_obj.Psitilde_gamma,\n",
    "                                                       ldle_obj.Psitilde_i, ldle_obj.zetatilde, ldle_obj.c)"
   ]
  },
  {
   "cell_type": "markdown",
   "id": "eb453adf",
   "metadata": {},
   "source": [
    "# Visualize initial global embedding"
   ]
  },
  {
   "cell_type": "code",
   "execution_count": null,
   "id": "7cbad320",
   "metadata": {},
   "outputs": [],
   "source": [
    "ldle_obj.vis.global_embedding(ldle_obj.y_init, labelsMat[:,1], 'jet', ldle_obj.color_of_pts_on_tear_init, 'jet', 'Initial')"
   ]
  },
  {
   "cell_type": "markdown",
   "id": "0cd23362",
   "metadata": {},
   "source": [
    "# Visualize final global embedding GPA based"
   ]
  },
  {
   "cell_type": "code",
   "execution_count": null,
   "id": "6b51cb69",
   "metadata": {},
   "outputs": [],
   "source": [
    "ldle_obj.vis.global_embedding(ldle_obj.y_final, labelsMat[:,1], 'jet', ldle_obj.color_of_pts_on_tear_final, 'jet', 'Final')"
   ]
  },
  {
   "cell_type": "markdown",
   "id": "9c21deeb",
   "metadata": {},
   "source": [
    "# Visualize global embedding with images"
   ]
  },
  {
   "cell_type": "code",
   "execution_count": null,
   "id": "02ef0eff",
   "metadata": {},
   "outputs": [],
   "source": [
    "ldle_obj.vis.global_embedding_images(X, (64,64), ldle_obj.y_final, labelsMat[:,1], 'jet', title= 'Final', zoom=0.5)"
   ]
  },
  {
   "cell_type": "markdown",
   "id": "e7f0cc5e",
   "metadata": {},
   "source": [
    "# LTSA Visualizations"
   ]
  },
  {
   "cell_type": "code",
   "execution_count": 4,
   "id": "e36d8180",
   "metadata": {},
   "outputs": [],
   "source": [
    "ldle_obj.vis.global_embedding(ldle_obj.y_final_ltsa2, labelsMat[:,1], 'jet', title= 'Final LTSA')"
   ]
  },
  {
   "cell_type": "markdown",
   "id": "4a4e1fb1",
   "metadata": {},
   "source": [
    "# Visualize LTSA global embedding with images"
   ]
  },
  {
   "cell_type": "code",
   "execution_count": null,
   "id": "cde7eac7",
   "metadata": {},
   "outputs": [],
   "source": [
    "ldle_obj.vis.global_embedding_images(X, (64,64), ldle_obj.y_final_ltsa, labelsMat[:,1], 'jet', title= 'Final', zoom=0.5)"
   ]
  },
  {
   "cell_type": "code",
   "execution_count": null,
   "id": "3bc4f4f6",
   "metadata": {},
   "outputs": [],
   "source": []
  }
 ],
 "metadata": {
  "kernelspec": {
   "display_name": "Python 3",
   "language": "python",
   "name": "python3"
  },
  "language_info": {
   "codemirror_mode": {
    "name": "ipython",
    "version": 3
   },
   "file_extension": ".py",
   "mimetype": "text/x-python",
   "name": "python",
   "nbconvert_exporter": "python",
   "pygments_lexer": "ipython3",
   "version": "3.9.2"
  }
 },
 "nbformat": 4,
 "nbformat_minor": 5
}
