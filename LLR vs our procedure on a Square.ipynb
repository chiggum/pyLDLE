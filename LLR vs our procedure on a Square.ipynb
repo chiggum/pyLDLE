{
 "cells": [
  {
   "cell_type": "code",
   "execution_count": null,
   "metadata": {},
   "outputs": [],
   "source": [
    "import visualize\n",
    "import datasets\n",
    "import ldle\n",
    "import numpy as np\n",
    "import os\n",
    "%matplotlib qt\n",
    "import pickle"
   ]
  },
  {
   "cell_type": "code",
   "execution_count": null,
   "metadata": {},
   "outputs": [],
   "source": [
    "save_dir_root = 'D:/pyLDLE/LLR/'"
   ]
  },
  {
   "cell_type": "code",
   "execution_count": null,
   "metadata": {},
   "outputs": [],
   "source": [
    "ar = 1\n",
    "RES = 100\n",
    "sideLx = np.sqrt(ar)\n",
    "sideLy = 1/sideLx\n",
    "RESx = int(sideLx*RES+1)\n",
    "RESy = int(sideLy*RES+1)\n",
    "x = np.linspace(0, sideLx, RESx)\n",
    "y = np.linspace(0, sideLy, RESy)\n",
    "xv, yv = np.meshgrid(x, y)\n",
    "xv = xv.flatten('F')[:,np.newaxis]\n",
    "yv = yv.flatten('F')[:,np.newaxis]\n",
    "X = np.concatenate([xv,yv], axis=1)\n",
    "labelsMat = X\n",
    "print('X.shape = ', X.shape)"
   ]
  },
  {
   "cell_type": "code",
   "execution_count": null,
   "metadata": {},
   "outputs": [],
   "source": [
    "N = 100"
   ]
  },
  {
   "cell_type": "code",
   "execution_count": null,
   "metadata": {},
   "outputs": [],
   "source": [
    "lmbda = []\n",
    "phi = []\n",
    "grad_phi = []\n",
    "for i in range(int(np.sqrt(N))+1):\n",
    "    for j in range(int(np.sqrt(N))+1):\n",
    "        lmbda.append((i/sideLx)**2 + (j/sideLy)**2)\n",
    "        phi.append(np.cos(i*np.pi*X[:,0]/sideLx)*np.cos(j*np.pi*X[:,1]/sideLy))\n",
    "        grad_phi.append([-(i*np.pi/sideLx)*np.sin(i*np.pi*X[:,0]/sideLx)*np.cos(j*np.pi*X[:,1]/sideLy),\n",
    "                         -(j*np.pi/sideLy)*np.cos(i*np.pi*X[:,0]/sideLx)*np.sin(j*np.pi*X[:,1]/sideLy)])"
   ]
  },
  {
   "cell_type": "code",
   "execution_count": null,
   "metadata": {},
   "outputs": [],
   "source": [
    "lmbda = np.array(lmbda)\n",
    "phi = np.array(phi)\n",
    "grad_phi = np.array(grad_phi)\n",
    "inds = np.argsort(lmbda)[1:N+1]\n",
    "lmbda = lmbda[inds]\n",
    "phi = phi[inds,:].T\n",
    "grad_phi = grad_phi[inds,:,:].T\n",
    "print(lmbda.shape)\n",
    "print(phi.shape)\n",
    "print(grad_phi.shape)"
   ]
  },
  {
   "cell_type": "code",
   "execution_count": null,
   "metadata": {},
   "outputs": [],
   "source": [
    "def square(use_LLR = False):\n",
    "    X, labelsMat, _ = datasets.Datasets().rectanglegrid(ar=1)\n",
    "    if use_LLR:\n",
    "        fpath = save_dir_root+'/square_w_LLR.dat'\n",
    "    else:\n",
    "        fpath = save_dir_root+'/square_wo_LLR.dat'\n",
    "        \n",
    "    if os.path.exists(fpath):\n",
    "        with open(fpath, \"rb\") as f:\n",
    "            X, labelsMat, ldle_obj = pickle.load(f)\n",
    "    else:\n",
    "        ldle_obj = ldle.LDLE(X=X, eta_min=10, max_iter0=20, use_LLR = use_LLR,\n",
    "                             lmbda = lmbda, phi = phi, N = N,\n",
    "                             vis = visualize.Visualize(save_dir_root+'/square_'+str(int(use_LLR))),\n",
    "                             vis_y_options = {'cmap0':'summer',\n",
    "                                              'cmap1':'jet',\n",
    "                                              'labels':labelsMat[:,0]})\n",
    "        ldle_obj.fit()\n",
    "        ldle_obj.y_final_ltsa = ldle_obj.compute_final_global_embedding_ltsap_based()\n",
    "        with open(fpath, \"wb\") as f:\n",
    "            pickle.dump([X, labelsMat, ldle_obj], f)\n",
    "    return X, labelsMat, ldle_obj"
   ]
  },
  {
   "cell_type": "markdown",
   "metadata": {},
   "source": [
    "# Run one of the above examples"
   ]
  },
  {
   "cell_type": "code",
   "execution_count": null,
   "metadata": {
    "scrolled": false
   },
   "outputs": [],
   "source": [
    "X, labelsMat, ldle_obj_w_LLR = square(use_LLR = True)"
   ]
  },
  {
   "cell_type": "code",
   "execution_count": null,
   "metadata": {},
   "outputs": [],
   "source": [
    "X, labelsMat, ldle_obj_wo_LLR = square(use_LLR = False)"
   ]
  },
  {
   "cell_type": "markdown",
   "metadata": {},
   "source": [
    "# Visualizations"
   ]
  },
  {
   "cell_type": "markdown",
   "metadata": {},
   "source": [
    "# Eigenvalues $(\\lambda_i)_{i=1}^{N}$"
   ]
  },
  {
   "cell_type": "code",
   "execution_count": null,
   "metadata": {},
   "outputs": [],
   "source": [
    "ldle_obj_w_LLR.vis.eigenvalues(ldle_obj_w_LLR.lmbda)"
   ]
  },
  {
   "cell_type": "code",
   "execution_count": null,
   "metadata": {},
   "outputs": [],
   "source": [
    "ldle_obj_wo_LLR.vis.eigenvalues(ldle_obj_wo_LLR.lmbda)"
   ]
  },
  {
   "cell_type": "markdown",
   "metadata": {},
   "source": [
    "# Visualize Eigenvectors $\\phi_{i}$ given $i$"
   ]
  },
  {
   "cell_type": "code",
   "execution_count": null,
   "metadata": {},
   "outputs": [],
   "source": [
    "ldle_obj_w_LLR.vis.eigenvector(X, ldle_obj_w_LLR.phi, 5) # total #eigenvectors = ldle.N"
   ]
  },
  {
   "cell_type": "code",
   "execution_count": null,
   "metadata": {},
   "outputs": [],
   "source": [
    "ldle_obj_wo_LLR.vis.eigenvector(X, ldle_obj_wo_LLR.phi, 5) # total #eigenvectors = ldle.N"
   ]
  },
  {
   "cell_type": "markdown",
   "metadata": {},
   "source": [
    "# Visualize gamma $\\gamma_i$ given $i$"
   ]
  },
  {
   "cell_type": "code",
   "execution_count": null,
   "metadata": {},
   "outputs": [],
   "source": [
    "ldle_obj_w_LLR.vis.gamma(X, ldle_obj_w_LLR.gamma, 5) # total #eigenvectors = ldle.N"
   ]
  },
  {
   "cell_type": "code",
   "execution_count": null,
   "metadata": {},
   "outputs": [],
   "source": [
    "ldle_obj_wo_LLR.vis.gamma(X, ldle_obj_wo_LLR.gamma, 5) # total #eigenvectors = ldle.N"
   ]
  },
  {
   "cell_type": "markdown",
   "metadata": {},
   "source": [
    "# Visualize error in estimation of $\\widetilde{A}_{kij}$ when use_LLR = True vs False"
   ]
  },
  {
   "cell_type": "code",
   "execution_count": null,
   "metadata": {},
   "outputs": [],
   "source": [
    "from matplotlib import pyplot as plt\n",
    "i = 0\n",
    "j = 1\n",
    "s = 20"
   ]
  },
  {
   "cell_type": "code",
   "execution_count": null,
   "metadata": {},
   "outputs": [],
   "source": [
    "Atildeij_true = np.sum(grad_phi[:,:,i]*grad_phi[:,:,j], 1)"
   ]
  },
  {
   "cell_type": "code",
   "execution_count": null,
   "metadata": {},
   "outputs": [],
   "source": [
    "fig = plt.figure(figsize=(12,4))\n",
    "figManager = plt.get_current_fig_manager()\n",
    "figManager.window.showMaximized()\n",
    "plt.subplot(121)\n",
    "plt.scatter(X[:,0], X[:,1], s=s, c=ldle_obj_w_LLR.phi[:,i], cmap='jet')\n",
    "plt.axis('image')\n",
    "plt.colorbar()\n",
    "plt.title('$\\phi_{%d}$'%i)\n",
    "plt.subplot(122)\n",
    "plt.scatter(X[:,0], X[:,1], s=s, c=ldle_obj_w_LLR.phi[:,j], cmap='jet')\n",
    "plt.axis('image')\n",
    "plt.colorbar()\n",
    "plt.title('$\\phi_{%d}$'%j)\n",
    "plt.savefig(save_dir_root+'/LLR_vs_Our_phi_'+str(i)+'_and_phi_'+str(j)+'.png', dpi=150) "
   ]
  },
  {
   "cell_type": "code",
   "execution_count": null,
   "metadata": {},
   "outputs": [],
   "source": [
    "fig = plt.figure(figsize=(15,8))\n",
    "figManager = plt.get_current_fig_manager()\n",
    "figManager.window.showMaximized()\n",
    "plt.subplot(231)\n",
    "plt.scatter(X[:,0], X[:,1], s=s, c=Atildeij_true, cmap='jet')\n",
    "plt.axis('image')\n",
    "plt.colorbar()\n",
    "plt.title('True $\\widetilde{A}_{:%d%d}$'%(i,j))\n",
    "plt.subplot(232)\n",
    "plt.scatter(X[:,0], X[:,1], s=s, c=ldle_obj_w_LLR.Atilde[:,i,j], cmap='jet')\n",
    "plt.axis('image')\n",
    "plt.colorbar()\n",
    "plt.title('Estimate of $\\widetilde{A}_{:%d%d}$ with LLR'%(i,j))\n",
    "plt.subplot(233)\n",
    "plt.scatter(X[:,0], X[:,1], s=s, c=ldle_obj_wo_LLR.Atilde[:,i,j], cmap='jet')\n",
    "plt.axis('image')\n",
    "plt.colorbar()\n",
    "plt.title('Estimate of $\\widetilde{A}_{:%d%d}$ with our method'%(i,j))\n",
    "plt.subplot(235)\n",
    "plt.scatter(X[:,0], X[:,1], s=s, c=np.abs(Atildeij_true - ldle_obj_w_LLR.Atilde[:,i,j]), cmap='jet')\n",
    "plt.axis('image')\n",
    "plt.colorbar()\n",
    "plt.title('|True - LLR Estimate|')\n",
    "plt.subplot(236)\n",
    "plt.scatter(X[:,0], X[:,1], s=s, c=np.abs(Atildeij_true - ldle_obj_wo_LLR.Atilde[:,i,j]), cmap='jet')\n",
    "plt.axis('image')\n",
    "plt.colorbar()\n",
    "plt.title('|True - Our Estimate|')\n",
    "plt.savefig(save_dir_root+'/LLR_vs_Our_Atilde_'+str(i)+'_'+str(j)+'.png') "
   ]
  },
  {
   "cell_type": "markdown",
   "metadata": {},
   "source": [
    "# Visualize $\\nabla\\phi_i$ given $i$ (works only when use_LLR = True)"
   ]
  },
  {
   "cell_type": "code",
   "execution_count": null,
   "metadata": {},
   "outputs": [],
   "source": [
    "ldle_obj_w_LLR.vis.grad_phi(X, ldle_obj_w_LLR.phi, ldle_obj_w_LLR.grad_phi, 0)"
   ]
  },
  {
   "cell_type": "markdown",
   "metadata": {},
   "source": [
    "# Distortion of Local Parameterizations $\\zeta_{kk}$"
   ]
  },
  {
   "cell_type": "code",
   "execution_count": null,
   "metadata": {},
   "outputs": [],
   "source": [
    "ldle_obj_w_LLR.vis.distortion(X, ldle_obj_w_LLR.local_param.zeta, 'zeta')"
   ]
  },
  {
   "cell_type": "code",
   "execution_count": null,
   "metadata": {},
   "outputs": [],
   "source": [
    "ldle_obj_wo_LLR.vis.distortion(X, ldle_obj_wo_LLR.local_param.zeta, 'zeta')"
   ]
  },
  {
   "cell_type": "markdown",
   "metadata": {},
   "source": [
    "# Distribution of distortion $\\zeta_{kk}$"
   ]
  },
  {
   "cell_type": "code",
   "execution_count": null,
   "metadata": {},
   "outputs": [],
   "source": [
    "ldle_obj_w_LLR.vis.compare_local_high_low_distortion(ldle_obj_w_LLR.X, ldle_obj_w_LLR.Atilde,\n",
    "                                                     ldle_obj_w_LLR.local_param.Psi_gamma,\n",
    "                                                     ldle_obj_w_LLR.local_param.Psi_i,\n",
    "                                                     ldle_obj_w_LLR.local_param.zeta, 'zeta',\n",
    "                                                     figsize=(20,4))"
   ]
  },
  {
   "cell_type": "code",
   "execution_count": null,
   "metadata": {},
   "outputs": [],
   "source": [
    "ldle_obj_wo_LLR.vis.compare_local_high_low_distortion(ldle_obj_wo_LLR.X, ldle_obj_wo_LLR.Atilde,\n",
    "                                                     ldle_obj_wo_LLR.local_param.Psi_gamma,\n",
    "                                                     ldle_obj_wo_LLR.local_param.Psi_i,\n",
    "                                                     ldle_obj_wo_LLR.local_param.zeta, 'zeta',\n",
    "                                                     figsize=(20,4))"
   ]
  },
  {
   "cell_type": "markdown",
   "metadata": {},
   "source": [
    "# Chosen eigenvectors' indices' for local views $i_1, i_2, \\ldots, i_d$"
   ]
  },
  {
   "cell_type": "code",
   "execution_count": null,
   "metadata": {},
   "outputs": [],
   "source": [
    "ldle_obj_w_LLR.vis.chosen_eigevec_inds_for_local_views(ldle_obj_w_LLR.X, ldle_obj_w_LLR.local_param.Psi_i)"
   ]
  },
  {
   "cell_type": "code",
   "execution_count": null,
   "metadata": {},
   "outputs": [],
   "source": [
    "ldle_obj_wo_LLR.vis.chosen_eigevec_inds_for_local_views(ldle_obj_wo_LLR.X, ldle_obj_wo_LLR.local_param.Psi_i)"
   ]
  },
  {
   "cell_type": "markdown",
   "metadata": {},
   "source": [
    "# Visualize final global embedding GPA based"
   ]
  },
  {
   "cell_type": "code",
   "execution_count": null,
   "metadata": {},
   "outputs": [],
   "source": [
    "ldle_obj_w_LLR.vis.global_embedding(ldle_obj_w_LLR.y_final, labelsMat[:,1], 'jet',\n",
    "                                    ldle_obj_w_LLR.color_of_pts_on_tear_final, 'jet', 'LLR')"
   ]
  },
  {
   "cell_type": "code",
   "execution_count": null,
   "metadata": {},
   "outputs": [],
   "source": [
    "ldle_obj_wo_LLR.vis.global_embedding(ldle_obj_wo_LLR.y_final, labelsMat[:,1], 'jet',\n",
    "                                     ldle_obj_wo_LLR.color_of_pts_on_tear_final, 'jet', 'Final')"
   ]
  },
  {
   "cell_type": "code",
   "execution_count": null,
   "metadata": {},
   "outputs": [],
   "source": []
  }
 ],
 "metadata": {
  "kernelspec": {
   "display_name": "Python 3",
   "language": "python",
   "name": "python3"
  },
  "language_info": {
   "codemirror_mode": {
    "name": "ipython",
    "version": 3
   },
   "file_extension": ".py",
   "mimetype": "text/x-python",
   "name": "python",
   "nbconvert_exporter": "python",
   "pygments_lexer": "ipython3",
   "version": "3.9.2"
  }
 },
 "nbformat": 4,
 "nbformat_minor": 2
}
