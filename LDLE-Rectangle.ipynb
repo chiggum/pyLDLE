{
 "cells": [
  {
   "cell_type": "code",
   "execution_count": null,
   "metadata": {},
   "outputs": [],
   "source": [
    "import visualize\n",
    "import datasets\n",
    "from ldle import LDLE\n",
    "# Uncomment to reload a library\n",
    "# from importlib import reload \n",
    "# visualize = reload(visualize)"
   ]
  },
  {
   "cell_type": "code",
   "execution_count": null,
   "metadata": {},
   "outputs": [],
   "source": [
    "X, labelsMat = datasets.Datasets().rectangleGrid()\n",
    "ldle = LDLE(X=X)"
   ]
  },
  {
   "cell_type": "code",
   "execution_count": null,
   "metadata": {},
   "outputs": [],
   "source": [
    "%matplotlib qt\n",
    "vis = visualize.Visualize()"
   ]
  },
  {
   "cell_type": "markdown",
   "metadata": {},
   "source": [
    "# Dataset $\\{x_k\\}_{k=1}^{n}$"
   ]
  },
  {
   "cell_type": "code",
   "execution_count": null,
   "metadata": {},
   "outputs": [],
   "source": [
    "vis.data(X, labelsMat[:,0])"
   ]
  },
  {
   "cell_type": "markdown",
   "metadata": {},
   "source": [
    "# Eigenvalues $(\\lambda_i)_{i=1}^{N}$"
   ]
  },
  {
   "cell_type": "code",
   "execution_count": null,
   "metadata": {},
   "outputs": [],
   "source": [
    "vis.eigenvalues(ldle.lmbda)"
   ]
  },
  {
   "cell_type": "markdown",
   "metadata": {},
   "source": [
    "# Visualize Eigenvectors $\\phi_{i}$ given $i$"
   ]
  },
  {
   "cell_type": "code",
   "execution_count": null,
   "metadata": {},
   "outputs": [],
   "source": [
    "vis.eigenvector(X, ldle.phi, int(ldle.N/2)) # total #eigenvectors = ldle.N"
   ]
  },
  {
   "cell_type": "markdown",
   "metadata": {},
   "source": [
    "# Distortion of Local Parameterizations $\\zeta_{kk}$"
   ]
  },
  {
   "cell_type": "code",
   "execution_count": null,
   "metadata": {},
   "outputs": [],
   "source": [
    "vis.distortion(X, ldle.zeta)"
   ]
  },
  {
   "cell_type": "markdown",
   "metadata": {},
   "source": [
    "- This is an interactive plot. Double click on first subplot to choose $x_k$. Press any key to quit.\n",
    "### Local views in the ambient and embedding space $U_k$ and $\\Psi_k(U_k)$ by choosing $x_k$\n",
    "### Chosen eigenvectors to construct the local parameterization $\\phi_{i_1}, \\ldots, \\phi_{i_d}$ where $i_s \\equiv i_s(k)$\n",
    "### Verify that chosen eigenvectors form orthonormal frame upto scale"
   ]
  },
  {
   "cell_type": "code",
   "execution_count": null,
   "metadata": {
    "scrolled": false
   },
   "outputs": [],
   "source": [
    "vis.local_views(ldle.X, ldle.phi, ldle.U, ldle.gamma, ldle.Atilde,\n",
    "                  ldle.Psi_gamma, ldle.Psi_i, ldle.zeta)"
   ]
  },
  {
   "cell_type": "markdown",
   "metadata": {},
   "source": [
    "# Chosen eigenvectors' indices' for local views $i_1, i_2, \\ldots, i_d$"
   ]
  },
  {
   "cell_type": "code",
   "execution_count": null,
   "metadata": {},
   "outputs": [],
   "source": [
    "vis.chosen_eigevec_inds_for_local_views(ldle.X, ldle.Psi_i)"
   ]
  },
  {
   "cell_type": "markdown",
   "metadata": {},
   "source": [
    "- This is an interactive plot. Double click on first subplot to choose $x_k$. Press any key to quit.\n",
    "### Intermediate views in the ambient and embedding space $\\widetilde{U}_m$ and $\\widetilde{\\Psi}_m(\\widetilde{U}_m)$ by choosing $x_k$ ($m = c_k$)\n",
    "### Chosen eigenvectors to construct the local parameterization $\\phi_{i_1}, \\ldots, \\phi_{i_d}$ where $i_s \\equiv i_s(m)$ and $m = c_k$\n",
    "### Verify that chosen eigenvectors form orthonormal frame upto scale"
   ]
  },
  {
   "cell_type": "code",
   "execution_count": null,
   "metadata": {},
   "outputs": [],
   "source": [
    "vis.intermediate_views(ldle.X, ldle.phi, ldle.Utilde, ldle.gamma, ldle.Atilde,\n",
    "                         ldle.Psitilde_gamma, ldle.Psitilde_i, ldle.zetatilde, ldle.c)"
   ]
  },
  {
   "cell_type": "markdown",
   "metadata": {},
   "source": [
    "# Chosen eigenvectors' indices' for intermediate views $i_1, i_2, \\ldots, i_d$"
   ]
  },
  {
   "cell_type": "code",
   "execution_count": null,
   "metadata": {},
   "outputs": [],
   "source": [
    "vis.chosen_eigevec_inds_for_intermediate_views(ldle.X, ldle.Psitilde_i, ldle.c)"
   ]
  },
  {
   "cell_type": "markdown",
   "metadata": {},
   "source": [
    "- This is an interactive plot. Double click on second subplot to choose threshold. Press any key to quit.\n",
    "# Compare high and low distortion local neighbourhoods based on\n",
    "- angle between gradients of chosen eigenvectors for the local parameterizations\n",
    "- difference between the local scaling factors of the chosen eigenvectors"
   ]
  },
  {
   "cell_type": "code",
   "execution_count": null,
   "metadata": {
    "scrolled": true
   },
   "outputs": [],
   "source": [
    "vis.compare_local_high_low_distortion(ldle.X, ldle.Atilde, ldle.Psi_gamma, ldle.Psi_i, ldle.zeta)"
   ]
  },
  {
   "cell_type": "markdown",
   "metadata": {},
   "source": [
    "- This is an interactive plot. Double click on second subplot to choose threshold. Press any key to quit.\n",
    "# Compare high and low distortion intermediate neighbourhoods based on\n",
    "- angle between gradients of chosen eigenvectors for the local parameterizations\n",
    "- difference between the local scaling factors of the chosen eigenvectors"
   ]
  },
  {
   "cell_type": "code",
   "execution_count": null,
   "metadata": {},
   "outputs": [],
   "source": [
    "vis.compare_intermediate_high_low_distortion(ldle.X, ldle.Atilde, ldle.Psitilde_gamma,\n",
    "                                               ldle.Psitilde_i, ldle.zetatilde, ldle.c)"
   ]
  }
 ],
 "metadata": {
  "kernelspec": {
   "display_name": "Python 3",
   "language": "python",
   "name": "python3"
  },
  "language_info": {
   "codemirror_mode": {
    "name": "ipython",
    "version": 3
   },
   "file_extension": ".py",
   "mimetype": "text/x-python",
   "name": "python",
   "nbconvert_exporter": "python",
   "pygments_lexer": "ipython3",
   "version": "3.7.6"
  }
 },
 "nbformat": 4,
 "nbformat_minor": 2
}
